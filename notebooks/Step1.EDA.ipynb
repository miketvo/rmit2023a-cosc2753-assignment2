{
 "cells": [
  {
   "cell_type": "markdown",
   "source": [
    "# I. Exploratory Data Analysis\n",
    "\n",
    "[//]: # (TODO: Write methodology and observations here)"
   ],
   "metadata": {
    "collapsed": false
   }
  },
  {
   "cell_type": "code",
   "execution_count": 1,
   "metadata": {
    "collapsed": true,
    "ExecuteTime": {
     "end_time": "2023-05-14T07:03:34.101252900Z",
     "start_time": "2023-05-14T07:03:32.701136600Z"
    }
   },
   "outputs": [],
   "source": [
    "import matplotlib.pyplot as plt\n",
    "\n",
    "from utils import dataset\n",
    "from utils.visualization import plot_data_distribution\n",
    "from utils.glob import COLORS\n",
    "\n",
    "\n",
    "plt.style.use('ggplot')"
   ]
  },
  {
   "cell_type": "code",
   "execution_count": 2,
   "outputs": [],
   "source": [
    "df_raw = dataset.load('../data/raw')"
   ],
   "metadata": {
    "collapsed": false,
    "ExecuteTime": {
     "end_time": "2023-05-14T07:03:36.444706200Z",
     "start_time": "2023-05-14T07:03:34.102252400Z"
    }
   }
  },
  {
   "cell_type": "code",
   "execution_count": 3,
   "outputs": [
    {
     "data": {
      "text/plain": "              Width        Height         Ratio\ncount  16362.000000  16362.000000  16362.000000\nmean     693.434360    692.961374      1.039756\nstd      550.176343    580.224863      0.303225\nmin      100.000000    100.000000      0.475460\n25%      266.250000    260.000000      0.793478\n50%      600.000000    546.500000      1.000000\n75%      894.000000    850.000000      1.164596\nmax     5472.000000   5184.000000      3.317073",
      "text/html": "<div>\n<style scoped>\n    .dataframe tbody tr th:only-of-type {\n        vertical-align: middle;\n    }\n\n    .dataframe tbody tr th {\n        vertical-align: top;\n    }\n\n    .dataframe thead th {\n        text-align: right;\n    }\n</style>\n<table border=\"1\" class=\"dataframe\">\n  <thead>\n    <tr style=\"text-align: right;\">\n      <th></th>\n      <th>Width</th>\n      <th>Height</th>\n      <th>Ratio</th>\n    </tr>\n  </thead>\n  <tbody>\n    <tr>\n      <th>count</th>\n      <td>16362.000000</td>\n      <td>16362.000000</td>\n      <td>16362.000000</td>\n    </tr>\n    <tr>\n      <th>mean</th>\n      <td>693.434360</td>\n      <td>692.961374</td>\n      <td>1.039756</td>\n    </tr>\n    <tr>\n      <th>std</th>\n      <td>550.176343</td>\n      <td>580.224863</td>\n      <td>0.303225</td>\n    </tr>\n    <tr>\n      <th>min</th>\n      <td>100.000000</td>\n      <td>100.000000</td>\n      <td>0.475460</td>\n    </tr>\n    <tr>\n      <th>25%</th>\n      <td>266.250000</td>\n      <td>260.000000</td>\n      <td>0.793478</td>\n    </tr>\n    <tr>\n      <th>50%</th>\n      <td>600.000000</td>\n      <td>546.500000</td>\n      <td>1.000000</td>\n    </tr>\n    <tr>\n      <th>75%</th>\n      <td>894.000000</td>\n      <td>850.000000</td>\n      <td>1.164596</td>\n    </tr>\n    <tr>\n      <th>max</th>\n      <td>5472.000000</td>\n      <td>5184.000000</td>\n      <td>3.317073</td>\n    </tr>\n  </tbody>\n</table>\n</div>"
     },
     "execution_count": 3,
     "metadata": {},
     "output_type": "execute_result"
    }
   ],
   "source": [
    "df_raw.describe()"
   ],
   "metadata": {
    "collapsed": false,
    "ExecuteTime": {
     "end_time": "2023-05-14T07:03:36.463846500Z",
     "start_time": "2023-05-14T07:03:36.448678800Z"
    }
   }
  },
  {
   "cell_type": "code",
   "execution_count": 4,
   "outputs": [
    {
     "name": "stdout",
     "output_type": "stream",
     "text": [
      "<class 'pandas.core.frame.DataFrame'>\n",
      "RangeIndex: 16362 entries, 0 to 16361\n",
      "Data columns (total 10 columns):\n",
      " #   Column        Non-Null Count  Dtype  \n",
      "---  ------        --------------  -----  \n",
      " 0   ImgPath       16362 non-null  object \n",
      " 1   FileType      16362 non-null  object \n",
      " 2   Width         16362 non-null  int64  \n",
      " 3   Height        16362 non-null  int64  \n",
      " 4   Ratio         16362 non-null  float64\n",
      " 5   Mode          16362 non-null  object \n",
      " 6   Bands         16362 non-null  object \n",
      " 7   Transparency  16362 non-null  bool   \n",
      " 8   Animated      16362 non-null  bool   \n",
      " 9   Class         16362 non-null  object \n",
      "dtypes: bool(2), float64(1), int64(2), object(5)\n",
      "memory usage: 1.0+ MB\n"
     ]
    }
   ],
   "source": [
    "df_raw.info()"
   ],
   "metadata": {
    "collapsed": false,
    "ExecuteTime": {
     "end_time": "2023-05-14T07:03:36.483300900Z",
     "start_time": "2023-05-14T07:03:36.466852800Z"
    }
   }
  },
  {
   "cell_type": "code",
   "execution_count": 5,
   "outputs": [
    {
     "data": {
      "text/plain": "                                   ImgPath FileType  Width  Height     Ratio   \n5379              Chrysanthemum/001293.jpg      jpg   1280     853  1.500586  \\\n6176                 Hydrangeas/000026.jpg      jpg    600     450  1.333333   \n10769                  Pingpong/000481.jpg      jpg   1000    1333  0.750188   \n7593                 Hydrangeas/001443.jpg      jpg    760     442  1.719457   \n10662                  Pingpong/000374.jpg      jpg    600     749  0.801068   \n2087                  Calimerio/000026.jpg      jpg   1024     768  1.333333   \n123                        Baby/000124.jpg      jpg    800    1131  0.707339   \n8962                 Lisianthus/000764.jpg      jpg    521     587  0.887564   \n10010        Lisianthus/lisianthus_720.jpg      jpg    219     230  0.952174   \n8419                 Lisianthus/000221.jpg      jpg    750    1000  0.750000   \n6486                 Hydrangeas/000336.jpg      jpg    400     535  0.747664   \n7182                 Hydrangeas/001032.jpg      jpg   2848    2136  1.333333   \n3204                  Calimerio/001143.jpg      jpg   2048    2048  1.000000   \n6576                 Hydrangeas/000426.jpg      jpg    650     450  1.444444   \n3322                  Calimerio/001261.jpg      jpg    600     450  1.333333   \n3980             Calimerio/calimero_32.jpg      jpg    197     256  0.769531   \n9520          Lisianthus/lisianthus_28.jpg      jpg    225     225  1.000000   \n5903   Chrysanthemum/chrysanthemum_502.jpg      jpg    214     235  0.910638   \n10525                  Pingpong/000237.jpg      jpg    533     400  1.332500   \n13433                      Rosy/001123.jpg      jpg    900     900  1.000000   \n14275                     Rosy/rosy_65.jpg      jpg    300     168  1.785714   \n15566                      Tana/001254.jpg      jpg    400     535  0.747664   \n11250                  Pingpong/000962.jpg      jpg    564     564  1.000000   \n12054            Pingpong/pingpong_192.jpg      jpg    194     259  0.749035   \n2638                  Calimerio/000577.jpg      jpg    300     360  0.833333   \n1698                      Baby/baby_61.jpg      jpg    225     225  1.000000   \n4391              Chrysanthemum/000305.jpg      jpg    900     600  1.500000   \n12286             Pingpong/pingpong_77.jpg      jpg    208     243  0.855967   \n6286                 Hydrangeas/000136.jpg      jpg   1080    1350  0.800000   \n9113                 Lisianthus/000915.jpg      jpg    663     900  0.736667   \n16056                    Tana/tana_385.jpg      jpg    204     247  0.825911   \n2595                  Calimerio/000534.jpg      jpg    450     600  0.750000   \n88                         Baby/000089.jpg      jpg   1667    2334  0.714225   \n14598                      Tana/000286.jpg      jpg    600     800  0.750000   \n6187                 Hydrangeas/000037.jpg      jpg   2690    2028  1.326430   \n7496                 Hydrangeas/001346.jpg      jpg    800     800  1.000000   \n7583                 Hydrangeas/001433.jpg      jpg    600     800  0.750000   \n12981                      Rosy/000671.jpg      jpg   1024     768  1.333333   \n8810                 Lisianthus/000612.jpg      jpg    564     752  0.750000   \n3063                  Calimerio/001002.jpg      jpg    600     450  1.333333   \n7656                 Hydrangeas/001506.jpg      jpg    650     450  1.444444   \n14505                      Tana/000193.jpg      jpg    600     800  0.750000   \n\n      Mode  Bands  Transparency  Animated          Class  \n5379   RGB  R G B         False     False  Chrysanthemum  \n6176   RGB  R G B         False     False     Hydrangeas  \n10769  RGB  R G B         False     False       Pingpong  \n7593   RGB  R G B         False     False     Hydrangeas  \n10662  RGB  R G B         False     False       Pingpong  \n2087   RGB  R G B         False     False      Calimerio  \n123    RGB  R G B         False     False           Baby  \n8962   RGB  R G B         False     False     Lisianthus  \n10010  RGB  R G B         False     False     Lisianthus  \n8419   RGB  R G B         False     False     Lisianthus  \n6486   RGB  R G B         False     False     Hydrangeas  \n7182   RGB  R G B         False     False     Hydrangeas  \n3204   RGB  R G B         False     False      Calimerio  \n6576   RGB  R G B         False     False     Hydrangeas  \n3322   RGB  R G B         False     False      Calimerio  \n3980   RGB  R G B         False     False      Calimerio  \n9520   RGB  R G B         False     False     Lisianthus  \n5903   RGB  R G B         False     False  Chrysanthemum  \n10525  RGB  R G B         False     False       Pingpong  \n13433  RGB  R G B         False     False           Rosy  \n14275  RGB  R G B         False     False           Rosy  \n15566  RGB  R G B         False     False           Tana  \n11250  RGB  R G B         False     False       Pingpong  \n12054  RGB  R G B         False     False       Pingpong  \n2638   RGB  R G B         False     False      Calimerio  \n1698   RGB  R G B         False     False           Baby  \n4391   RGB  R G B         False     False  Chrysanthemum  \n12286  RGB  R G B         False     False       Pingpong  \n6286   RGB  R G B         False     False     Hydrangeas  \n9113   RGB  R G B         False     False     Lisianthus  \n16056  RGB  R G B         False     False           Tana  \n2595   RGB  R G B         False     False      Calimerio  \n88     RGB  R G B         False     False           Baby  \n14598  RGB  R G B         False     False           Tana  \n6187   RGB  R G B         False     False     Hydrangeas  \n7496   RGB  R G B         False     False     Hydrangeas  \n7583   RGB  R G B         False     False     Hydrangeas  \n12981  RGB  R G B         False     False           Rosy  \n8810   RGB  R G B         False     False     Lisianthus  \n3063   RGB  R G B         False     False      Calimerio  \n7656   RGB  R G B         False     False     Hydrangeas  \n14505  RGB  R G B         False     False           Tana  ",
      "text/html": "<div>\n<style scoped>\n    .dataframe tbody tr th:only-of-type {\n        vertical-align: middle;\n    }\n\n    .dataframe tbody tr th {\n        vertical-align: top;\n    }\n\n    .dataframe thead th {\n        text-align: right;\n    }\n</style>\n<table border=\"1\" class=\"dataframe\">\n  <thead>\n    <tr style=\"text-align: right;\">\n      <th></th>\n      <th>ImgPath</th>\n      <th>FileType</th>\n      <th>Width</th>\n      <th>Height</th>\n      <th>Ratio</th>\n      <th>Mode</th>\n      <th>Bands</th>\n      <th>Transparency</th>\n      <th>Animated</th>\n      <th>Class</th>\n    </tr>\n  </thead>\n  <tbody>\n    <tr>\n      <th>5379</th>\n      <td>Chrysanthemum/001293.jpg</td>\n      <td>jpg</td>\n      <td>1280</td>\n      <td>853</td>\n      <td>1.500586</td>\n      <td>RGB</td>\n      <td>R G B</td>\n      <td>False</td>\n      <td>False</td>\n      <td>Chrysanthemum</td>\n    </tr>\n    <tr>\n      <th>6176</th>\n      <td>Hydrangeas/000026.jpg</td>\n      <td>jpg</td>\n      <td>600</td>\n      <td>450</td>\n      <td>1.333333</td>\n      <td>RGB</td>\n      <td>R G B</td>\n      <td>False</td>\n      <td>False</td>\n      <td>Hydrangeas</td>\n    </tr>\n    <tr>\n      <th>10769</th>\n      <td>Pingpong/000481.jpg</td>\n      <td>jpg</td>\n      <td>1000</td>\n      <td>1333</td>\n      <td>0.750188</td>\n      <td>RGB</td>\n      <td>R G B</td>\n      <td>False</td>\n      <td>False</td>\n      <td>Pingpong</td>\n    </tr>\n    <tr>\n      <th>7593</th>\n      <td>Hydrangeas/001443.jpg</td>\n      <td>jpg</td>\n      <td>760</td>\n      <td>442</td>\n      <td>1.719457</td>\n      <td>RGB</td>\n      <td>R G B</td>\n      <td>False</td>\n      <td>False</td>\n      <td>Hydrangeas</td>\n    </tr>\n    <tr>\n      <th>10662</th>\n      <td>Pingpong/000374.jpg</td>\n      <td>jpg</td>\n      <td>600</td>\n      <td>749</td>\n      <td>0.801068</td>\n      <td>RGB</td>\n      <td>R G B</td>\n      <td>False</td>\n      <td>False</td>\n      <td>Pingpong</td>\n    </tr>\n    <tr>\n      <th>2087</th>\n      <td>Calimerio/000026.jpg</td>\n      <td>jpg</td>\n      <td>1024</td>\n      <td>768</td>\n      <td>1.333333</td>\n      <td>RGB</td>\n      <td>R G B</td>\n      <td>False</td>\n      <td>False</td>\n      <td>Calimerio</td>\n    </tr>\n    <tr>\n      <th>123</th>\n      <td>Baby/000124.jpg</td>\n      <td>jpg</td>\n      <td>800</td>\n      <td>1131</td>\n      <td>0.707339</td>\n      <td>RGB</td>\n      <td>R G B</td>\n      <td>False</td>\n      <td>False</td>\n      <td>Baby</td>\n    </tr>\n    <tr>\n      <th>8962</th>\n      <td>Lisianthus/000764.jpg</td>\n      <td>jpg</td>\n      <td>521</td>\n      <td>587</td>\n      <td>0.887564</td>\n      <td>RGB</td>\n      <td>R G B</td>\n      <td>False</td>\n      <td>False</td>\n      <td>Lisianthus</td>\n    </tr>\n    <tr>\n      <th>10010</th>\n      <td>Lisianthus/lisianthus_720.jpg</td>\n      <td>jpg</td>\n      <td>219</td>\n      <td>230</td>\n      <td>0.952174</td>\n      <td>RGB</td>\n      <td>R G B</td>\n      <td>False</td>\n      <td>False</td>\n      <td>Lisianthus</td>\n    </tr>\n    <tr>\n      <th>8419</th>\n      <td>Lisianthus/000221.jpg</td>\n      <td>jpg</td>\n      <td>750</td>\n      <td>1000</td>\n      <td>0.750000</td>\n      <td>RGB</td>\n      <td>R G B</td>\n      <td>False</td>\n      <td>False</td>\n      <td>Lisianthus</td>\n    </tr>\n    <tr>\n      <th>6486</th>\n      <td>Hydrangeas/000336.jpg</td>\n      <td>jpg</td>\n      <td>400</td>\n      <td>535</td>\n      <td>0.747664</td>\n      <td>RGB</td>\n      <td>R G B</td>\n      <td>False</td>\n      <td>False</td>\n      <td>Hydrangeas</td>\n    </tr>\n    <tr>\n      <th>7182</th>\n      <td>Hydrangeas/001032.jpg</td>\n      <td>jpg</td>\n      <td>2848</td>\n      <td>2136</td>\n      <td>1.333333</td>\n      <td>RGB</td>\n      <td>R G B</td>\n      <td>False</td>\n      <td>False</td>\n      <td>Hydrangeas</td>\n    </tr>\n    <tr>\n      <th>3204</th>\n      <td>Calimerio/001143.jpg</td>\n      <td>jpg</td>\n      <td>2048</td>\n      <td>2048</td>\n      <td>1.000000</td>\n      <td>RGB</td>\n      <td>R G B</td>\n      <td>False</td>\n      <td>False</td>\n      <td>Calimerio</td>\n    </tr>\n    <tr>\n      <th>6576</th>\n      <td>Hydrangeas/000426.jpg</td>\n      <td>jpg</td>\n      <td>650</td>\n      <td>450</td>\n      <td>1.444444</td>\n      <td>RGB</td>\n      <td>R G B</td>\n      <td>False</td>\n      <td>False</td>\n      <td>Hydrangeas</td>\n    </tr>\n    <tr>\n      <th>3322</th>\n      <td>Calimerio/001261.jpg</td>\n      <td>jpg</td>\n      <td>600</td>\n      <td>450</td>\n      <td>1.333333</td>\n      <td>RGB</td>\n      <td>R G B</td>\n      <td>False</td>\n      <td>False</td>\n      <td>Calimerio</td>\n    </tr>\n    <tr>\n      <th>3980</th>\n      <td>Calimerio/calimero_32.jpg</td>\n      <td>jpg</td>\n      <td>197</td>\n      <td>256</td>\n      <td>0.769531</td>\n      <td>RGB</td>\n      <td>R G B</td>\n      <td>False</td>\n      <td>False</td>\n      <td>Calimerio</td>\n    </tr>\n    <tr>\n      <th>9520</th>\n      <td>Lisianthus/lisianthus_28.jpg</td>\n      <td>jpg</td>\n      <td>225</td>\n      <td>225</td>\n      <td>1.000000</td>\n      <td>RGB</td>\n      <td>R G B</td>\n      <td>False</td>\n      <td>False</td>\n      <td>Lisianthus</td>\n    </tr>\n    <tr>\n      <th>5903</th>\n      <td>Chrysanthemum/chrysanthemum_502.jpg</td>\n      <td>jpg</td>\n      <td>214</td>\n      <td>235</td>\n      <td>0.910638</td>\n      <td>RGB</td>\n      <td>R G B</td>\n      <td>False</td>\n      <td>False</td>\n      <td>Chrysanthemum</td>\n    </tr>\n    <tr>\n      <th>10525</th>\n      <td>Pingpong/000237.jpg</td>\n      <td>jpg</td>\n      <td>533</td>\n      <td>400</td>\n      <td>1.332500</td>\n      <td>RGB</td>\n      <td>R G B</td>\n      <td>False</td>\n      <td>False</td>\n      <td>Pingpong</td>\n    </tr>\n    <tr>\n      <th>13433</th>\n      <td>Rosy/001123.jpg</td>\n      <td>jpg</td>\n      <td>900</td>\n      <td>900</td>\n      <td>1.000000</td>\n      <td>RGB</td>\n      <td>R G B</td>\n      <td>False</td>\n      <td>False</td>\n      <td>Rosy</td>\n    </tr>\n    <tr>\n      <th>14275</th>\n      <td>Rosy/rosy_65.jpg</td>\n      <td>jpg</td>\n      <td>300</td>\n      <td>168</td>\n      <td>1.785714</td>\n      <td>RGB</td>\n      <td>R G B</td>\n      <td>False</td>\n      <td>False</td>\n      <td>Rosy</td>\n    </tr>\n    <tr>\n      <th>15566</th>\n      <td>Tana/001254.jpg</td>\n      <td>jpg</td>\n      <td>400</td>\n      <td>535</td>\n      <td>0.747664</td>\n      <td>RGB</td>\n      <td>R G B</td>\n      <td>False</td>\n      <td>False</td>\n      <td>Tana</td>\n    </tr>\n    <tr>\n      <th>11250</th>\n      <td>Pingpong/000962.jpg</td>\n      <td>jpg</td>\n      <td>564</td>\n      <td>564</td>\n      <td>1.000000</td>\n      <td>RGB</td>\n      <td>R G B</td>\n      <td>False</td>\n      <td>False</td>\n      <td>Pingpong</td>\n    </tr>\n    <tr>\n      <th>12054</th>\n      <td>Pingpong/pingpong_192.jpg</td>\n      <td>jpg</td>\n      <td>194</td>\n      <td>259</td>\n      <td>0.749035</td>\n      <td>RGB</td>\n      <td>R G B</td>\n      <td>False</td>\n      <td>False</td>\n      <td>Pingpong</td>\n    </tr>\n    <tr>\n      <th>2638</th>\n      <td>Calimerio/000577.jpg</td>\n      <td>jpg</td>\n      <td>300</td>\n      <td>360</td>\n      <td>0.833333</td>\n      <td>RGB</td>\n      <td>R G B</td>\n      <td>False</td>\n      <td>False</td>\n      <td>Calimerio</td>\n    </tr>\n    <tr>\n      <th>1698</th>\n      <td>Baby/baby_61.jpg</td>\n      <td>jpg</td>\n      <td>225</td>\n      <td>225</td>\n      <td>1.000000</td>\n      <td>RGB</td>\n      <td>R G B</td>\n      <td>False</td>\n      <td>False</td>\n      <td>Baby</td>\n    </tr>\n    <tr>\n      <th>4391</th>\n      <td>Chrysanthemum/000305.jpg</td>\n      <td>jpg</td>\n      <td>900</td>\n      <td>600</td>\n      <td>1.500000</td>\n      <td>RGB</td>\n      <td>R G B</td>\n      <td>False</td>\n      <td>False</td>\n      <td>Chrysanthemum</td>\n    </tr>\n    <tr>\n      <th>12286</th>\n      <td>Pingpong/pingpong_77.jpg</td>\n      <td>jpg</td>\n      <td>208</td>\n      <td>243</td>\n      <td>0.855967</td>\n      <td>RGB</td>\n      <td>R G B</td>\n      <td>False</td>\n      <td>False</td>\n      <td>Pingpong</td>\n    </tr>\n    <tr>\n      <th>6286</th>\n      <td>Hydrangeas/000136.jpg</td>\n      <td>jpg</td>\n      <td>1080</td>\n      <td>1350</td>\n      <td>0.800000</td>\n      <td>RGB</td>\n      <td>R G B</td>\n      <td>False</td>\n      <td>False</td>\n      <td>Hydrangeas</td>\n    </tr>\n    <tr>\n      <th>9113</th>\n      <td>Lisianthus/000915.jpg</td>\n      <td>jpg</td>\n      <td>663</td>\n      <td>900</td>\n      <td>0.736667</td>\n      <td>RGB</td>\n      <td>R G B</td>\n      <td>False</td>\n      <td>False</td>\n      <td>Lisianthus</td>\n    </tr>\n    <tr>\n      <th>16056</th>\n      <td>Tana/tana_385.jpg</td>\n      <td>jpg</td>\n      <td>204</td>\n      <td>247</td>\n      <td>0.825911</td>\n      <td>RGB</td>\n      <td>R G B</td>\n      <td>False</td>\n      <td>False</td>\n      <td>Tana</td>\n    </tr>\n    <tr>\n      <th>2595</th>\n      <td>Calimerio/000534.jpg</td>\n      <td>jpg</td>\n      <td>450</td>\n      <td>600</td>\n      <td>0.750000</td>\n      <td>RGB</td>\n      <td>R G B</td>\n      <td>False</td>\n      <td>False</td>\n      <td>Calimerio</td>\n    </tr>\n    <tr>\n      <th>88</th>\n      <td>Baby/000089.jpg</td>\n      <td>jpg</td>\n      <td>1667</td>\n      <td>2334</td>\n      <td>0.714225</td>\n      <td>RGB</td>\n      <td>R G B</td>\n      <td>False</td>\n      <td>False</td>\n      <td>Baby</td>\n    </tr>\n    <tr>\n      <th>14598</th>\n      <td>Tana/000286.jpg</td>\n      <td>jpg</td>\n      <td>600</td>\n      <td>800</td>\n      <td>0.750000</td>\n      <td>RGB</td>\n      <td>R G B</td>\n      <td>False</td>\n      <td>False</td>\n      <td>Tana</td>\n    </tr>\n    <tr>\n      <th>6187</th>\n      <td>Hydrangeas/000037.jpg</td>\n      <td>jpg</td>\n      <td>2690</td>\n      <td>2028</td>\n      <td>1.326430</td>\n      <td>RGB</td>\n      <td>R G B</td>\n      <td>False</td>\n      <td>False</td>\n      <td>Hydrangeas</td>\n    </tr>\n    <tr>\n      <th>7496</th>\n      <td>Hydrangeas/001346.jpg</td>\n      <td>jpg</td>\n      <td>800</td>\n      <td>800</td>\n      <td>1.000000</td>\n      <td>RGB</td>\n      <td>R G B</td>\n      <td>False</td>\n      <td>False</td>\n      <td>Hydrangeas</td>\n    </tr>\n    <tr>\n      <th>7583</th>\n      <td>Hydrangeas/001433.jpg</td>\n      <td>jpg</td>\n      <td>600</td>\n      <td>800</td>\n      <td>0.750000</td>\n      <td>RGB</td>\n      <td>R G B</td>\n      <td>False</td>\n      <td>False</td>\n      <td>Hydrangeas</td>\n    </tr>\n    <tr>\n      <th>12981</th>\n      <td>Rosy/000671.jpg</td>\n      <td>jpg</td>\n      <td>1024</td>\n      <td>768</td>\n      <td>1.333333</td>\n      <td>RGB</td>\n      <td>R G B</td>\n      <td>False</td>\n      <td>False</td>\n      <td>Rosy</td>\n    </tr>\n    <tr>\n      <th>8810</th>\n      <td>Lisianthus/000612.jpg</td>\n      <td>jpg</td>\n      <td>564</td>\n      <td>752</td>\n      <td>0.750000</td>\n      <td>RGB</td>\n      <td>R G B</td>\n      <td>False</td>\n      <td>False</td>\n      <td>Lisianthus</td>\n    </tr>\n    <tr>\n      <th>3063</th>\n      <td>Calimerio/001002.jpg</td>\n      <td>jpg</td>\n      <td>600</td>\n      <td>450</td>\n      <td>1.333333</td>\n      <td>RGB</td>\n      <td>R G B</td>\n      <td>False</td>\n      <td>False</td>\n      <td>Calimerio</td>\n    </tr>\n    <tr>\n      <th>7656</th>\n      <td>Hydrangeas/001506.jpg</td>\n      <td>jpg</td>\n      <td>650</td>\n      <td>450</td>\n      <td>1.444444</td>\n      <td>RGB</td>\n      <td>R G B</td>\n      <td>False</td>\n      <td>False</td>\n      <td>Hydrangeas</td>\n    </tr>\n    <tr>\n      <th>14505</th>\n      <td>Tana/000193.jpg</td>\n      <td>jpg</td>\n      <td>600</td>\n      <td>800</td>\n      <td>0.750000</td>\n      <td>RGB</td>\n      <td>R G B</td>\n      <td>False</td>\n      <td>False</td>\n      <td>Tana</td>\n    </tr>\n  </tbody>\n</table>\n</div>"
     },
     "execution_count": 5,
     "metadata": {},
     "output_type": "execute_result"
    }
   ],
   "source": [
    "df_raw.sample(n=42, random_state=42)"
   ],
   "metadata": {
    "collapsed": false,
    "ExecuteTime": {
     "end_time": "2023-05-14T07:03:36.529605600Z",
     "start_time": "2023-05-14T07:03:36.480263600Z"
    }
   }
  },
  {
   "cell_type": "code",
   "execution_count": 6,
   "outputs": [
    {
     "ename": "TypeError",
     "evalue": "utils.visualization.plot_data_distribution(): 'annotate' must be a list of bool",
     "output_type": "error",
     "traceback": [
      "\u001B[1;31m---------------------------------------------------------------------------\u001B[0m",
      "\u001B[1;31mTypeError\u001B[0m                                 Traceback (most recent call last)",
      "Cell \u001B[1;32mIn[6], line 3\u001B[0m\n\u001B[0;32m      1\u001B[0m bool_colors \u001B[38;5;241m=\u001B[39m [\u001B[38;5;124m'\u001B[39m\u001B[38;5;124m#f2483d\u001B[39m\u001B[38;5;124m'\u001B[39m, \u001B[38;5;124m'\u001B[39m\u001B[38;5;124m#3df285\u001B[39m\u001B[38;5;124m'\u001B[39m]\n\u001B[1;32m----> 3\u001B[0m fig, ax \u001B[38;5;241m=\u001B[39m \u001B[43mplot_data_distribution\u001B[49m\u001B[43m(\u001B[49m\n\u001B[0;32m      4\u001B[0m \u001B[43m    \u001B[49m\u001B[43mdf_raw\u001B[49m\u001B[43m,\u001B[49m\n\u001B[0;32m      5\u001B[0m \u001B[43m    \u001B[49m\u001B[43m[\u001B[49m\u001B[38;5;124;43m'\u001B[39;49m\u001B[38;5;124;43mFileType\u001B[39;49m\u001B[38;5;124;43m'\u001B[39;49m\u001B[43m,\u001B[49m\u001B[43m \u001B[49m\u001B[38;5;124;43m'\u001B[39;49m\u001B[38;5;124;43mRatio\u001B[39;49m\u001B[38;5;124;43m'\u001B[39;49m\u001B[43m,\u001B[49m\u001B[43m \u001B[49m\u001B[38;5;124;43m'\u001B[39;49m\u001B[38;5;124;43mMode\u001B[39;49m\u001B[38;5;124;43m'\u001B[39;49m\u001B[43m,\u001B[49m\u001B[43m \u001B[49m\u001B[38;5;124;43m'\u001B[39;49m\u001B[38;5;124;43mTransparency\u001B[39;49m\u001B[38;5;124;43m'\u001B[39;49m\u001B[43m,\u001B[49m\u001B[43m \u001B[49m\u001B[38;5;124;43m'\u001B[39;49m\u001B[38;5;124;43mAnimated\u001B[39;49m\u001B[38;5;124;43m'\u001B[39;49m\u001B[43m,\u001B[49m\u001B[43m \u001B[49m\u001B[38;5;124;43m'\u001B[39;49m\u001B[38;5;124;43mClass\u001B[39;49m\u001B[38;5;124;43m'\u001B[39;49m\u001B[43m]\u001B[49m\u001B[43m,\u001B[49m\n\u001B[0;32m      6\u001B[0m \u001B[43m    \u001B[49m\u001B[43m[\u001B[49m\u001B[38;5;124;43m'\u001B[39;49m\u001B[38;5;124;43mFile Types\u001B[39;49m\u001B[38;5;124;43m'\u001B[39;49m\u001B[43m,\u001B[49m\u001B[43m \u001B[49m\u001B[38;5;124;43m'\u001B[39;49m\u001B[38;5;124;43mImage Ratio Distribution\u001B[39;49m\u001B[38;5;124;43m'\u001B[39;49m\u001B[43m,\u001B[49m\u001B[43m \u001B[49m\u001B[38;5;124;43m'\u001B[39;49m\u001B[38;5;124;43mImage Modes\u001B[39;49m\u001B[38;5;124;43m'\u001B[39;49m\u001B[43m,\u001B[49m\u001B[43m \u001B[49m\u001B[38;5;124;43m'\u001B[39;49m\u001B[38;5;124;43mImage Transparency\u001B[39;49m\u001B[38;5;124;43m'\u001B[39;49m\u001B[43m,\u001B[49m\u001B[43m \u001B[49m\u001B[38;5;124;43m'\u001B[39;49m\u001B[38;5;124;43mAnimation\u001B[39;49m\u001B[38;5;124;43m'\u001B[39;49m\u001B[43m,\u001B[49m\u001B[43m \u001B[49m\u001B[38;5;124;43m'\u001B[39;49m\u001B[38;5;124;43mFlower Classes\u001B[39;49m\u001B[38;5;124;43m'\u001B[39;49m\u001B[43m]\u001B[49m\u001B[43m,\u001B[49m\n\u001B[0;32m      7\u001B[0m \u001B[43m    \u001B[49m\u001B[43mnrows\u001B[49m\u001B[38;5;241;43m=\u001B[39;49m\u001B[38;5;241;43m2\u001B[39;49m\u001B[43m,\u001B[49m\u001B[43m \u001B[49m\u001B[43mncols\u001B[49m\u001B[38;5;241;43m=\u001B[39;49m\u001B[38;5;241;43m3\u001B[39;49m\u001B[43m,\u001B[49m\n\u001B[0;32m      8\u001B[0m \u001B[43m    \u001B[49m\u001B[43mfigsize\u001B[49m\u001B[38;5;241;43m=\u001B[39;49m\u001B[43m(\u001B[49m\u001B[38;5;241;43m15\u001B[39;49m\u001B[43m,\u001B[49m\u001B[43m \u001B[49m\u001B[38;5;241;43m10\u001B[39;49m\u001B[43m)\u001B[49m\u001B[43m,\u001B[49m\n\u001B[0;32m      9\u001B[0m \u001B[43m    \u001B[49m\u001B[43mannotate\u001B[49m\u001B[38;5;241;43m=\u001B[39;49m\u001B[43m[\u001B[49m\u001B[38;5;28;43;01mTrue\u001B[39;49;00m\u001B[43m,\u001B[49m\u001B[43m \u001B[49m\u001B[38;5;28;43;01mFalse\u001B[39;49;00m\u001B[43m,\u001B[49m\u001B[43m \u001B[49m\u001B[38;5;28;43;01mTrue\u001B[39;49;00m\u001B[43m,\u001B[49m\u001B[43m \u001B[49m\u001B[38;5;28;43;01mTrue\u001B[39;49;00m\u001B[43m,\u001B[49m\u001B[43m \u001B[49m\u001B[38;5;28;43;01mTrue\u001B[39;49;00m\u001B[43m,\u001B[49m\u001B[43m \u001B[49m\u001B[38;5;28;43;01mTrue\u001B[39;49;00m\u001B[43m]\u001B[49m\u001B[43m,\u001B[49m\n\u001B[0;32m     10\u001B[0m \u001B[43m    \u001B[49m\u001B[43mcolors\u001B[49m\u001B[38;5;241;43m=\u001B[39;49m\u001B[43m[\u001B[49m\u001B[38;5;28;43;01mNone\u001B[39;49;00m\u001B[43m,\u001B[49m\u001B[43m \u001B[49m\u001B[38;5;28;43;01mNone\u001B[39;49;00m\u001B[43m,\u001B[49m\u001B[43m \u001B[49m\u001B[38;5;28;43;01mNone\u001B[39;49;00m\u001B[43m,\u001B[49m\u001B[43m \u001B[49m\u001B[38;5;28;43;01mNone\u001B[39;49;00m\u001B[43m,\u001B[49m\u001B[43m \u001B[49m\u001B[38;5;28;43;01mNone\u001B[39;49;00m\u001B[43m,\u001B[49m\u001B[43m \u001B[49m\u001B[43mCOLORS\u001B[49m\u001B[43m]\u001B[49m\n\u001B[0;32m     11\u001B[0m \u001B[43m)\u001B[49m\n\u001B[0;32m     13\u001B[0m ax[\u001B[38;5;241m1\u001B[39m][\u001B[38;5;241m2\u001B[39m]\u001B[38;5;241m.\u001B[39mset_xticks(ax[\u001B[38;5;241m1\u001B[39m][\u001B[38;5;241m2\u001B[39m]\u001B[38;5;241m.\u001B[39mget_xticks())\n\u001B[0;32m     14\u001B[0m ax[\u001B[38;5;241m1\u001B[39m][\u001B[38;5;241m2\u001B[39m]\u001B[38;5;241m.\u001B[39mset_xticklabels(ax[\u001B[38;5;241m1\u001B[39m][\u001B[38;5;241m2\u001B[39m]\u001B[38;5;241m.\u001B[39mget_xticklabels(), rotation\u001B[38;5;241m=\u001B[39m\u001B[38;5;241m45\u001B[39m)\n",
      "File \u001B[1;32m~\\Projects\\rmit\\cosc2753\\rmit2023a-cosc2753-assignment2\\utils\\visualization.py:60\u001B[0m, in \u001B[0;36mplot_data_distribution\u001B[1;34m(df, col, title, nrows, ncols, figsize, colors, annotate, xticklabels_rotation)\u001B[0m\n\u001B[0;32m     58\u001B[0m     \u001B[38;5;28;01mraise\u001B[39;00m \u001B[38;5;167;01mValueError\u001B[39;00m(\u001B[38;5;124m\"\u001B[39m\u001B[38;5;124mutils.visualization.plot_data_distribution(): \u001B[39m\u001B[38;5;124m'\u001B[39m\u001B[38;5;124mcolors\u001B[39m\u001B[38;5;124m'\u001B[39m\u001B[38;5;124m and \u001B[39m\u001B[38;5;124m'\u001B[39m\u001B[38;5;124mcol\u001B[39m\u001B[38;5;124m'\u001B[39m\u001B[38;5;124m length mismatch\u001B[39m\u001B[38;5;124m\"\u001B[39m)\n\u001B[0;32m     59\u001B[0m \u001B[38;5;28;01mif\u001B[39;00m \u001B[38;5;28mtype\u001B[39m(annotate) \u001B[38;5;129;01mis\u001B[39;00m \u001B[38;5;129;01mnot\u001B[39;00m \u001B[38;5;28mbool\u001B[39m:\n\u001B[1;32m---> 60\u001B[0m     \u001B[38;5;28;01mraise\u001B[39;00m \u001B[38;5;167;01mTypeError\u001B[39;00m(\u001B[38;5;124m\"\u001B[39m\u001B[38;5;124mutils.visualization.plot_data_distribution(): \u001B[39m\u001B[38;5;124m'\u001B[39m\u001B[38;5;124mannotate\u001B[39m\u001B[38;5;124m'\u001B[39m\u001B[38;5;124m must be a list of bool\u001B[39m\u001B[38;5;124m\"\u001B[39m)\n\u001B[0;32m     61\u001B[0m \u001B[38;5;28;01mif\u001B[39;00m annotate \u001B[38;5;129;01mis\u001B[39;00m \u001B[38;5;129;01mnot\u001B[39;00m \u001B[38;5;28;01mNone\u001B[39;00m \u001B[38;5;129;01mand\u001B[39;00m \u001B[38;5;28mlen\u001B[39m(annotate) \u001B[38;5;241m!=\u001B[39m \u001B[38;5;28mlen\u001B[39m(col):\n\u001B[0;32m     62\u001B[0m     \u001B[38;5;28;01mraise\u001B[39;00m \u001B[38;5;167;01mValueError\u001B[39;00m(\u001B[38;5;124m\"\u001B[39m\u001B[38;5;124mutils.visualization.plot_data_distribution(): \u001B[39m\u001B[38;5;124m'\u001B[39m\u001B[38;5;124mannotate\u001B[39m\u001B[38;5;124m'\u001B[39m\u001B[38;5;124m and \u001B[39m\u001B[38;5;124m'\u001B[39m\u001B[38;5;124mcol\u001B[39m\u001B[38;5;124m'\u001B[39m\u001B[38;5;124m length mismatch\u001B[39m\u001B[38;5;124m\"\u001B[39m)\n",
      "\u001B[1;31mTypeError\u001B[0m: utils.visualization.plot_data_distribution(): 'annotate' must be a list of bool"
     ]
    }
   ],
   "source": [
    "bool_colors = ['#f2483d', '#3df285']\n",
    "\n",
    "fig, ax = plot_data_distribution(\n",
    "    df_raw,\n",
    "    ['FileType', 'Ratio', 'Mode', 'Transparency', 'Animated', 'Class'],\n",
    "    ['File Types', 'Image Ratio Distribution', 'Image Modes', 'Image Transparency', 'Animation', 'Flower Classes'],\n",
    "    nrows=2, ncols=3,\n",
    "    figsize=(15, 10),\n",
    "    annotate=[True, False, True, True, True, True],\n",
    "    colors=[None, None, None, None, None, COLORS]\n",
    ")\n",
    "\n",
    "ax[1][2].set_xticks(ax[1][2].get_xticks())\n",
    "ax[1][2].set_xticklabels(ax[1][2].get_xticklabels(), rotation=45)\n",
    "\n",
    "fig.tight_layout()\n",
    "fig.savefig('images/EDA-RawDataset.png')"
   ],
   "metadata": {
    "collapsed": false,
    "ExecuteTime": {
     "end_time": "2023-05-14T07:03:37.055953Z",
     "start_time": "2023-05-14T07:03:36.511065200Z"
    }
   }
  }
 ],
 "metadata": {
  "kernelspec": {
   "display_name": "Python 3",
   "language": "python",
   "name": "python3"
  },
  "language_info": {
   "codemirror_mode": {
    "name": "ipython",
    "version": 2
   },
   "file_extension": ".py",
   "mimetype": "text/x-python",
   "name": "python",
   "nbconvert_exporter": "python",
   "pygments_lexer": "ipython2",
   "version": "2.7.6"
  }
 },
 "nbformat": 4,
 "nbformat_minor": 0
}
