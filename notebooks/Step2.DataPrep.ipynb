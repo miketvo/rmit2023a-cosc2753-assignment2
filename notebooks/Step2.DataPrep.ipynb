{
 "cells": [
  {
   "cell_type": "markdown",
   "metadata": {},
   "source": [
    "# Step 2. Data Preparation\n",
    "\n",
    "---\n",
    "\n",
    "This step includes both data cleaning and data processing. The resulting data will be saved into `./data/processed/` folder under the same class-separated folder structure as the raw dataset. The steps are as follows:\n",
    "\n",
    "1. Augment Identical Images (Data Duplication). Method: Comparing `imagehash.average_hash()` of each image to get the identical images, then randomly rotate and flip them.\n",
    "2. Remove Transparency and Grayscale: Convert images of all other modes to `RGB`, excluding `L` images (grayscale).\n",
    "3. Standardize Sizes and Aspect Ratios: **512x512** pixels, 1:1 aspect ratio.\n",
    "4. Normalize Pixel Values: common scale: [0, 1].\n",
    "5. Quality Control: Manual inspection of a subset of images to ensure overall dataset quality."
   ]
  },
  {
   "cell_type": "code",
   "execution_count": null,
   "metadata": {
    "ExecuteTime": {
     "start_time": "2023-05-15T00:03:53.776894Z",
     "end_time": "2023-05-15T00:03:55.265404Z"
    },
    "collapsed": true
   },
   "outputs": [],
   "source": [
    "# Imports and environmental setups\n",
    "\n",
    "import os\n",
    "import random\n",
    "import numpy as np\n",
    "import matplotlib.pyplot as plt\n",
    "import imagehash\n",
    "from PIL import Image\n",
    "\n",
    "\n",
    "# Custom utils functions\n",
    "from utils import dataset\n",
    "from utils.visualization import data_countplot\n",
    "from utils.visualization import data_histplot\n",
    "from utils.visualization import data_plot_16samples\n",
    "\n",
    "\n",
    "plt.style.use('ggplot')\n",
    "path_raw_dataset = '../data/raw/'\n",
    "path_processed_dataset = '../data/processed/'"
   ]
  },
  {
   "cell_type": "markdown",
   "metadata": {},
   "source": [
    "## Load Raw Dataset\n",
    "\n",
    "Using our custom `dataset.load()` function."
   ]
  },
  {
   "cell_type": "code",
   "execution_count": null,
   "metadata": {
    "ExecuteTime": {
     "start_time": "2023-05-15T00:03:55.267409Z",
     "end_time": "2023-05-15T00:04:00.006183Z"
    }
   },
   "outputs": [],
   "source": [
    "df_raw = dataset.load('../data/raw')\n",
    "df_raw.info()"
   ]
  },
  {
   "cell_type": "code",
   "execution_count": null,
   "metadata": {
    "ExecuteTime": {
     "start_time": "2023-05-15T00:04:00.014145Z",
     "end_time": "2023-05-15T00:04:01.294090Z"
    }
   },
   "outputs": [],
   "source": [
    "fig, ax = plt.subplots(2, 3, figsize=(15, 10))\n",
    "\n",
    "data_countplot(df_raw, 'FileType', ax=ax[0][0], title='File Types', annotate=True, palette='Set2')\n",
    "data_histplot(df_raw, 'Ratio', ax=ax[0][1], title='Image Ratio Density', bins=20, kde=True, stat='density')\n",
    "data_countplot(df_raw, 'Mode', ax=ax[0][2], title='Image Modes', annotate=True, palette='Accent')\n",
    "data_countplot(df_raw, 'Transparency', ax=ax[1][0], title='Transparency', annotate=True, palette='YlGn')\n",
    "data_countplot(df_raw, 'Animated', ax=ax[1][1], title='Animated', annotate=True, palette='YlGn')\n",
    "data_countplot(df_raw, 'Class', ax=ax[1][2], horizontal=True, title='Flower Classes', xticklabels_rotation=45, annotate=True, palette='Set1')\n",
    "\n",
    "fig.suptitle('Raw Dataset Statistics', fontsize=20, fontweight='bold', y=1.0)\n",
    "fig.tight_layout()"
   ]
  },
  {
   "cell_type": "code",
   "execution_count": null,
   "metadata": {
    "ExecuteTime": {
     "start_time": "2023-05-15T00:04:01.296070Z",
     "end_time": "2023-05-15T00:04:02.779826Z"
    }
   },
   "outputs": [],
   "source": [
    "data_plot_16samples('../data/raw/', df_raw)"
   ]
  },
  {
   "cell_type": "markdown",
   "metadata": {},
   "source": [
    "## 2.1. Data Cleaning and Processing"
   ]
  },
  {
   "cell_type": "markdown",
   "metadata": {},
   "source": [
    "### 2.1.1. Identical Images (Duplicated Data) Cleaning\n",
    "\n",
    "We are detecting all identical images and store them in a list `skipped_duplicated_images` (keeping the first copy) so that we can skip cleaning and processing and saving them into our processed dataset in `../data/processed/`:"
   ]
  },
  {
   "cell_type": "code",
   "execution_count": null,
   "metadata": {
    "ExecuteTime": {
     "start_time": "2023-05-15T00:04:02.807164Z",
     "end_time": "2023-05-15T00:06:27.402441Z"
    }
   },
   "outputs": [],
   "source": [
    "image_hashes = {}\n",
    "for i, row in df_raw.iterrows():\n",
    "    with Image.open(f'../data/raw/{row[\"ImgPath\"]}') as im:\n",
    "        image_hash = imagehash.average_hash(im, hash_size=8)\n",
    "        if image_hash in image_hashes:\n",
    "            image_hashes[image_hash].append(row[\"ImgPath\"])\n",
    "        else:\n",
    "            image_hashes[image_hash] = [row[\"ImgPath\"]]\n",
    "\n",
    "duplicated_image_hashes = {hash_val: paths for hash_val, paths in image_hashes.items() if len(paths) > 1}  # Remove hashes with a single path\n",
    "\n",
    "duplicated_images_paths = []\n",
    "for paths in duplicated_image_hashes.values():\n",
    "    for i, path in enumerate(paths):\n",
    "        if i > 0:  # Keeping the first copy\n",
    "            duplicated_images_paths.append(path)\n",
    "\n",
    "print(f'Number of skipped duplicated images: {len(duplicated_images_paths)}')"
   ]
  },
  {
   "cell_type": "markdown",
   "metadata": {},
   "source": [
    "### 2.1.3. Further Cleaning and Processing\n",
    "\n",
    "- Augment Identical Images\n",
    "- Remove Transparency and Grayscale\n",
    "- Standardize Sizes and Aspect Ratios\n",
    "- Normalize Pixel Values"
   ]
  },
  {
   "cell_type": "code",
   "execution_count": null,
   "metadata": {
    "ExecuteTime": {
     "start_time": "2023-05-15T00:06:27.404450Z",
     "end_time": "2023-05-15T00:06:27.408933Z"
    }
   },
   "outputs": [],
   "source": [
    "COMMON_DIM = 512  # Target common dimension (width and height for all processed images)"
   ]
  },
  {
   "cell_type": "code",
   "execution_count": null,
   "outputs": [],
   "source": [
    "def augment(image: Image, seed: int = None) -> Image:\n",
    "    if seed is not None:\n",
    "        random.seed(seed)\n",
    "\n",
    "    # Rotation\n",
    "    rotation_angle = random.randint(-30, 30)\n",
    "    rotated_image = image.rotate(rotation_angle, expand=True)\n",
    "\n",
    "    # Horizontal flipping\n",
    "    flip_prob = random.random()\n",
    "    if flip_prob < 0.5:\n",
    "        flipped_image = rotated_image.transpose(Image.FLIP_LEFT_RIGHT)\n",
    "    else:\n",
    "        flipped_image = rotated_image\n",
    "\n",
    "    # Vertical flipping\n",
    "    flip_prob = random.random()\n",
    "    if flip_prob < 0.5:\n",
    "        flipped_image = flipped_image.transpose(Image.FLIP_TOP_BOTTOM)\n",
    "\n",
    "    return flipped_image"
   ],
   "metadata": {
    "collapsed": false,
    "ExecuteTime": {
     "start_time": "2023-05-15T00:23:41.918263Z",
     "end_time": "2023-05-15T00:23:41.922213Z"
    }
   }
  },
  {
   "cell_type": "code",
   "execution_count": null,
   "outputs": [],
   "source": [
    "def remove_transparency(image: Image) -> Image:\n",
    "    if im.mode in ('RGBA', 'RGBa', 'LA', 'La', 'PA', 'P'):\n",
    "        if image.mode != 'RGBA':\n",
    "            image = image.convert('RGBA')\n",
    "        image = image.convert('RGB')\n",
    "    return image"
   ],
   "metadata": {
    "collapsed": false,
    "ExecuteTime": {
     "start_time": "2023-05-15T00:06:27.419034Z",
     "end_time": "2023-05-15T00:06:27.422056Z"
    }
   }
  },
  {
   "cell_type": "code",
   "execution_count": null,
   "metadata": {
    "ExecuteTime": {
     "start_time": "2023-05-15T00:25:23.278031Z",
     "end_time": "2023-05-15T00:25:23.289058Z"
    }
   },
   "outputs": [],
   "source": [
    "def resize_crop(image: Image, width: int, height: int) -> Image:\n",
    "    original_aspect_ratio = image.width / image.height\n",
    "    target_aspect_ratio = width / height\n",
    "\n",
    "    if original_aspect_ratio > target_aspect_ratio:\n",
    "        # Crop horizontally\n",
    "        new_width = int(image.height * target_aspect_ratio)\n",
    "        left = (image.width - new_width) // 2\n",
    "        right = left + new_width\n",
    "        top = 0\n",
    "        bottom = image.height\n",
    "    else:\n",
    "        # Crop vertically\n",
    "        new_height = int(image.width / target_aspect_ratio)\n",
    "        top = (image.height - new_height) // 2\n",
    "        bottom = top + new_height\n",
    "        left = 0\n",
    "        right = image.width\n",
    "\n",
    "    cropped_image = image.crop((left, top, right, bottom))\n",
    "    resized_image = cropped_image.resize((width, height), Image.Resampling.LANCZOS)\n",
    "\n",
    "    return resized_image"
   ]
  },
  {
   "cell_type": "code",
   "execution_count": null,
   "metadata": {
    "ExecuteTime": {
     "start_time": "2023-05-15T00:06:27.433543Z",
     "end_time": "2023-05-15T00:06:27.445094Z"
    }
   },
   "outputs": [],
   "source": [
    "def normalize_pixels(image: Image) -> Image:\n",
    "    image_array = np.array(image)\n",
    "    normalized_image_array = image_array / 255.0  # Normalize pixel values to the range [0, 1]\n",
    "    return Image.fromarray((normalized_image_array * 255).astype(np.uint8))"
   ]
  },
  {
   "cell_type": "code",
   "execution_count": null,
   "metadata": {
    "ExecuteTime": {
     "start_time": "2023-05-14T23:01:33.190658Z",
     "end_time": "2023-05-14T23:02:17.004041Z"
    }
   },
   "outputs": [],
   "source": [
    "for i, row in df_raw.iterrows():\n",
    "    if not os.path.exists(f'{path_processed_dataset}{row[\"Class\"]}'):\n",
    "        os.makedirs(f'{path_processed_dataset}{row[\"Class\"]}')\n",
    "\n",
    "    img_path = row['ImgPath']\n",
    "    new_img_path = ''.join(img_path.split('.')[0:-1]) + '.jpg'\n",
    "    with Image.open(f'{path_raw_dataset}{img_path}') as im:\n",
    "        if im.mode == 'L':\n",
    "            continue  # Ignoring grayscale images\n",
    "\n",
    "        if img_path in duplicated_images_paths:\n",
    "            im = augment(im, seed=42)\n",
    "        im = remove_transparency(im)\n",
    "        im = resize_crop(im, COMMON_DIM, COMMON_DIM)\n",
    "        im = normalize_pixels(im)\n",
    "\n",
    "        im.save(f'{path_processed_dataset}{new_img_path}')"
   ]
  },
  {
   "cell_type": "markdown",
   "metadata": {},
   "source": [
    "## 2.2. Quality Control"
   ]
  },
  {
   "cell_type": "code",
   "execution_count": null,
   "metadata": {
    "ExecuteTime": {
     "start_time": "2023-05-14T23:02:17.004041Z",
     "end_time": "2023-05-14T23:02:18.394970Z"
    }
   },
   "outputs": [],
   "source": [
    "df_processed = dataset.load('../data/processed')"
   ]
  },
  {
   "cell_type": "code",
   "execution_count": null,
   "outputs": [],
   "source": [
    "df_processed.describe()"
   ],
   "metadata": {
    "collapsed": false,
    "ExecuteTime": {
     "start_time": "2023-05-14T23:02:18.396960Z",
     "end_time": "2023-05-14T23:02:18.412709Z"
    }
   }
  },
  {
   "cell_type": "code",
   "execution_count": null,
   "outputs": [],
   "source": [
    "df_processed.info()"
   ],
   "metadata": {
    "collapsed": false,
    "ExecuteTime": {
     "start_time": "2023-05-14T23:02:18.412709Z",
     "end_time": "2023-05-14T23:02:18.436589Z"
    }
   }
  },
  {
   "cell_type": "code",
   "execution_count": null,
   "metadata": {
    "ExecuteTime": {
     "start_time": "2023-05-14T23:02:18.434077Z",
     "end_time": "2023-05-14T23:02:19.682648Z"
    }
   },
   "outputs": [],
   "source": [
    "fig, ax = plt.subplots(2, 3, figsize=(15, 10))\n",
    "\n",
    "data_countplot(df_processed, 'FileType', ax=ax[0][0], title='File Types', annotate=True, palette='Set2')\n",
    "data_countplot(df_processed, 'Ratio', ax=ax[0][1], title='Image Ratio', annotate=True)\n",
    "data_countplot(df_processed, 'Mode', ax=ax[0][2], title='Image Modes', annotate=True, palette='Accent')\n",
    "data_countplot(df_processed, 'Transparency', ax=ax[1][0], title='Transparency', annotate=True, palette='YlGn')\n",
    "data_countplot(df_processed, 'Animated', ax=ax[1][1], title='Animated', annotate=True, palette='YlGn')\n",
    "data_countplot(df_processed, 'Class', ax=ax[1][2], horizontal=True, title='Flower Classes', xticklabels_rotation=45, annotate=True, palette='Set1')\n",
    "\n",
    "fig.suptitle('Processed Dataset Statistics', fontsize=20, fontweight='bold', y=1.0)\n",
    "fig.tight_layout()\n",
    "\n",
    "fig.savefig('images/DataPrep-ProcessedDataset-Stats.png')"
   ]
  },
  {
   "cell_type": "code",
   "execution_count": null,
   "metadata": {
    "ExecuteTime": {
     "start_time": "2023-05-14T23:02:19.689155Z",
     "end_time": "2023-05-14T23:02:21.625203Z"
    }
   },
   "outputs": [],
   "source": [
    "data_plot_16samples(path_processed_dataset, df_processed, to_file='images/DataPrep-ProcessedDataset-16Samples.png')"
   ]
  },
  {
   "cell_type": "markdown",
   "metadata": {},
   "source": [
    "## 2.3. ☞ Final Observation\n",
    "\n",
    "We have successfully cleaned and processed our dataset while minimally affecting our class distribution by using the techniques mentioned above. We also did not affect our dataset negatively in any other way. The processed data is stored in `./data/processed/`.\n",
    "\n",
    "For further enhancement to our dataset in the future, we may try:\n",
    "\n",
    "1. Remove Outliers:\n",
    "    - Identify and remove outlier images that do not represent the desired classes or introduce noise into the dataset.\n",
    "2. Noise Removal:\n",
    "    - Apply noise removal techniques to clean up images with noise, artifacts, or irrelevant elements.\n",
    "\n",
    "For now, we are not pursuing these due to our time constraint, since they are very time-consuming to implement (Remove Outliers) or not needed for our the image quality that we have (Noise Removal), and we are not sure if their effect on our models' performance is worth the time investment."
   ]
  }
 ],
 "metadata": {
  "kernelspec": {
   "display_name": "Python 3 (ipykernel)",
   "language": "python",
   "name": "python3"
  },
  "language_info": {
   "codemirror_mode": {
    "name": "ipython",
    "version": 3
   },
   "file_extension": ".py",
   "mimetype": "text/x-python",
   "name": "python",
   "nbconvert_exporter": "python",
   "pygments_lexer": "ipython3",
   "version": "3.11.2"
  }
 },
 "nbformat": 4,
 "nbformat_minor": 1
}
