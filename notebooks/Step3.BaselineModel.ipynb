{
 "cells": [
  {
   "cell_type": "markdown",
   "source": [
    "# Step 3. Baseline Model\n",
    "\n",
    "[//]: # (TODO: Write methodology and observations here)"
   ],
   "metadata": {
    "collapsed": false
   }
  },
  {
   "cell_type": "code",
   "execution_count": null,
   "metadata": {
    "collapsed": true,
    "ExecuteTime": {
     "start_time": "2023-05-15T06:01:08.779204Z",
     "end_time": "2023-05-15T06:01:14.094744Z"
    }
   },
   "outputs": [],
   "source": [
    "# Imports and environmental setups\n",
    "\n",
    "import matplotlib.pyplot as plt\n",
    "from sklearn.model_selection import train_test_split\n",
    "import tensorflow as tf\n",
    "from keras.preprocessing.image import ImageDataGenerator\n",
    "from keras.optimizers import Adam\n",
    "\n",
    "# Custom utils functions\n",
    "from utils import dataset\n",
    "from utils.visualization import plot_learning_curve\n",
    "from utils.visualization import visualize_predictions\n",
    "\n",
    "\n",
    "plt.style.use('ggplot')\n",
    "dataset_dir = '../data/processed/'\n",
    "log_dir = '../log/baseline/'"
   ]
  },
  {
   "cell_type": "markdown",
   "source": [
    "## 3.1. Load Dataset"
   ],
   "metadata": {
    "collapsed": false
   }
  },
  {
   "cell_type": "code",
   "execution_count": null,
   "outputs": [],
   "source": [
    "df = dataset.load(dataset_dir)"
   ],
   "metadata": {
    "collapsed": false,
    "ExecuteTime": {
     "start_time": "2023-05-15T06:01:14.095722Z",
     "end_time": "2023-05-15T06:01:16.434751Z"
    }
   }
  },
  {
   "cell_type": "code",
   "execution_count": null,
   "outputs": [],
   "source": [
    "df.info()"
   ],
   "metadata": {
    "collapsed": false,
    "ExecuteTime": {
     "start_time": "2023-05-15T06:01:16.437899Z",
     "end_time": "2023-05-15T06:01:16.453811Z"
    }
   }
  },
  {
   "cell_type": "code",
   "execution_count": null,
   "outputs": [],
   "source": [
    "df.sample(n=42, random_state=42)"
   ],
   "metadata": {
    "collapsed": false,
    "ExecuteTime": {
     "start_time": "2023-05-15T06:01:16.457811Z",
     "end_time": "2023-05-15T06:01:16.511874Z"
    }
   }
  },
  {
   "cell_type": "code",
   "execution_count": null,
   "outputs": [],
   "source": [
    "train, test = train_test_split(df, shuffle=True, test_size=0.2, random_state=42)\n",
    "train, val = train_test_split(train, shuffle=True, test_size=0.25, random_state=42)\n",
    "\n",
    "print(f'Train data: {train.shape[0]} samples, Validation Data: {val.shape[0]} samples, Test Data: {test.shape[0]} samples.')"
   ],
   "metadata": {
    "collapsed": false,
    "ExecuteTime": {
     "start_time": "2023-05-15T06:01:16.483138Z",
     "end_time": "2023-05-15T06:01:16.511874Z"
    }
   }
  },
  {
   "cell_type": "markdown",
   "source": [
    "## 3.2. Baseline Model Setup and Training"
   ],
   "metadata": {
    "collapsed": false
   }
  },
  {
   "cell_type": "markdown",
   "source": [
    "### 3.2.1. Baseline Parameters"
   ],
   "metadata": {
    "collapsed": false
   }
  },
  {
   "cell_type": "code",
   "execution_count": null,
   "outputs": [],
   "source": [
    "# Model Parameters\n",
    "IMG_SIZE = 256\n",
    "BATCH_SIZE = 512\n",
    "INPUT_DIM = (IMG_SIZE, IMG_SIZE, 3)  # RGB - 3 channels images\n",
    "HIDDEN_LAYER_DIM = 128\n",
    "OUTPUT_CLASSES = 8  # One-hot encoded: 8 different classes\n",
    "\n",
    "# Training Parameters\n",
    "EPOCHS = 16\n",
    "LEARNING_RATE = 1e-4"
   ],
   "metadata": {
    "collapsed": false,
    "ExecuteTime": {
     "start_time": "2023-05-15T06:01:16.493082Z",
     "end_time": "2023-05-15T06:01:16.511874Z"
    }
   }
  },
  {
   "cell_type": "markdown",
   "source": [
    "### 3.2.2. Model Setup"
   ],
   "metadata": {
    "collapsed": false
   }
  },
  {
   "cell_type": "code",
   "execution_count": null,
   "outputs": [],
   "source": [
    "model = tf.keras.Sequential([\n",
    "    tf.keras.layers.Flatten(input_shape=INPUT_DIM),\n",
    "    tf.keras.layers.Dense(HIDDEN_LAYER_DIM, activation='relu'),\n",
    "    tf.keras.layers.Dense(HIDDEN_LAYER_DIM, activation='relu'),\n",
    "    tf.keras.layers.Dense(HIDDEN_LAYER_DIM, activation='relu'),\n",
    "    tf.keras.layers.Dense(HIDDEN_LAYER_DIM, activation='sigmoid'),\n",
    "    tf.keras.layers.Dense(OUTPUT_CLASSES),\n",
    "], name='baseline')\n",
    "model.summary()"
   ],
   "metadata": {
    "collapsed": false,
    "ExecuteTime": {
     "start_time": "2023-05-15T06:01:16.499361Z",
     "end_time": "2023-05-15T06:01:16.772997Z"
    }
   }
  },
  {
   "cell_type": "code",
   "execution_count": null,
   "outputs": [],
   "source": [
    "tf.keras.utils.plot_model(model, show_shapes=True, to_file='images/BaselineModel-Diagram.png')"
   ],
   "metadata": {
    "collapsed": false,
    "ExecuteTime": {
     "start_time": "2023-05-15T06:01:16.772997Z",
     "end_time": "2023-05-15T06:01:16.960556Z"
    }
   }
  },
  {
   "cell_type": "markdown",
   "source": [
    "### 3.2.3. Training"
   ],
   "metadata": {
    "collapsed": false
   }
  },
  {
   "cell_type": "code",
   "execution_count": null,
   "outputs": [],
   "source": [
    "train['Class'] = train['Class'].astype('str')\n",
    "train_datagen = ImageDataGenerator(data_format='channels_last')\n",
    "train_generator = train_datagen.flow_from_dataframe(\n",
    "    dataframe=train,\n",
    "    directory=dataset_dir,\n",
    "    x_col='ImgPath',\n",
    "    y_col='Class',\n",
    "    target_size=(IMG_SIZE, IMG_SIZE),\n",
    "    batch_size=BATCH_SIZE,\n",
    "    class_mode='categorical',\n",
    "    seed=42\n",
    ")\n",
    "\n",
    "val['Class'] = val['Class'].astype('str')\n",
    "val_datagen = ImageDataGenerator(data_format='channels_last')\n",
    "val_generator = val_datagen.flow_from_dataframe(\n",
    "    dataframe=val,\n",
    "    directory=dataset_dir,\n",
    "    x_col='ImgPath',\n",
    "    y_col='Class',\n",
    "    target_size=(IMG_SIZE, IMG_SIZE),\n",
    "    batch_size=BATCH_SIZE,\n",
    "    class_mode='categorical',\n",
    "    seed=42\n",
    ")"
   ],
   "metadata": {
    "collapsed": false,
    "ExecuteTime": {
     "start_time": "2023-05-15T06:01:16.962558Z",
     "end_time": "2023-05-15T06:01:17.549478Z"
    }
   }
  },
  {
   "cell_type": "code",
   "execution_count": null,
   "outputs": [],
   "source": [
    "tensorboard_callback = tf.keras.callbacks.TensorBoard(log_dir=log_dir)\n",
    "\n",
    "model.compile(\n",
    "    optimizer=Adam(learning_rate=LEARNING_RATE),\n",
    "    loss=tf.keras.losses.CategoricalCrossentropy(from_logits=True),\n",
    "    metrics=['categorical_accuracy'],\n",
    ")\n",
    "\n",
    "history = model.fit(\n",
    "    train_generator, validation_data=val_generator,\n",
    "    epochs=EPOCHS,\n",
    "    verbose=2, callbacks=[tensorboard_callback]\n",
    ")"
   ],
   "metadata": {
    "collapsed": false,
    "ExecuteTime": {
     "start_time": "2023-05-15T04:15:15.011321Z",
     "end_time": "2023-05-15T04:28:40.410209Z"
    }
   }
  },
  {
   "cell_type": "code",
   "execution_count": null,
   "outputs": [],
   "source": [
    "plot_learning_curve(\n",
    "    history.history['loss'],\n",
    "    history.history['val_loss'],\n",
    "    history.history['categorical_accuracy'],\n",
    "    history.history['val_categorical_accuracy'],\n",
    "    to_file='images/BaselineModel-LearningCurve.png'\n",
    ")"
   ],
   "metadata": {
    "collapsed": false,
    "ExecuteTime": {
     "start_time": "2023-05-15T04:31:17.712147Z",
     "end_time": "2023-05-15T04:31:18.073164Z"
    }
   }
  },
  {
   "cell_type": "markdown",
   "source": [
    "## 3.3. Baseline Model Performance"
   ],
   "metadata": {
    "collapsed": false
   }
  },
  {
   "cell_type": "code",
   "execution_count": null,
   "outputs": [],
   "source": [
    "test['Class'] = test['Class'].astype('str')\n",
    "test_datagen = ImageDataGenerator(data_format='channels_last')\n",
    "test_generator = test_datagen.flow_from_dataframe(\n",
    "    dataframe=test,\n",
    "    directory=dataset_dir,\n",
    "    x_col='ImgPath',\n",
    "    y_col='Class',\n",
    "    target_size=(IMG_SIZE, IMG_SIZE),\n",
    "    batch_size=1,\n",
    "    class_mode='categorical',\n",
    "    seed=42\n",
    ")\n",
    "\n",
    "model.evaluate(test_generator)"
   ],
   "metadata": {
    "collapsed": false,
    "ExecuteTime": {
     "start_time": "2023-05-15T05:55:06.980359Z",
     "end_time": "2023-05-15T05:55:27.326668Z"
    }
   }
  },
  {
   "cell_type": "code",
   "execution_count": null,
   "outputs": [],
   "source": [
    "visualize_predictions(model, test_generator, to_file='images/BaselineModel-SamplePredictions.png')"
   ],
   "metadata": {
    "collapsed": false,
    "ExecuteTime": {
     "start_time": "2023-05-15T05:50:18.143911Z",
     "end_time": "2023-05-15T05:51:50.290766Z"
    }
   }
  }
 ],
 "metadata": {
  "kernelspec": {
   "display_name": "Python 3",
   "language": "python",
   "name": "python3"
  },
  "language_info": {
   "codemirror_mode": {
    "name": "ipython",
    "version": 2
   },
   "file_extension": ".py",
   "mimetype": "text/x-python",
   "name": "python",
   "nbconvert_exporter": "python",
   "pygments_lexer": "ipython2",
   "version": "2.7.6"
  }
 },
 "nbformat": 4,
 "nbformat_minor": 0
}
