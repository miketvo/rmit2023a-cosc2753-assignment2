{
 "cells": [
  {
   "cell_type": "markdown",
   "source": [
    "# Step 3. Baseline Model\n",
    "\n",
    "[//]: # (TODO: Write methodology and observations here)"
   ],
   "metadata": {
    "collapsed": false
   }
  },
  {
   "cell_type": "code",
   "execution_count": 1,
   "metadata": {
    "collapsed": true,
    "ExecuteTime": {
     "start_time": "2023-05-15T03:08:03.789366Z",
     "end_time": "2023-05-15T03:08:07.839400Z"
    }
   },
   "outputs": [],
   "source": [
    "# Imports and environmental setups\n",
    "\n",
    "import matplotlib.pyplot as plt\n",
    "from sklearn.model_selection import train_test_split\n",
    "from sklearn.preprocessing import LabelEncoder\n",
    "import tensorflow as tf\n",
    "from keras.preprocessing.image import ImageDataGenerator\n",
    "from keras.optimizers import Adam\n",
    "\n",
    "# Custom utils functions\n",
    "from utils import dataset\n",
    "from utils.visualization import plot_learning_curve\n",
    "from utils.visualization import visualize_predictions\n",
    "\n",
    "\n",
    "plt.style.use('ggplot')\n",
    "dataset_dir = '../data/processed/'"
   ]
  },
  {
   "cell_type": "markdown",
   "source": [
    "## 3.1. Load Dataset"
   ],
   "metadata": {
    "collapsed": false
   }
  },
  {
   "cell_type": "code",
   "execution_count": 2,
   "outputs": [],
   "source": [
    "df = dataset.load(dataset_dir)\n",
    "\n",
    "class_encoder = LabelEncoder()\n",
    "class_encoder.fit(df['Class'])\n",
    "df['Class'] = class_encoder.transform(df['Class'])"
   ],
   "metadata": {
    "collapsed": false,
    "ExecuteTime": {
     "start_time": "2023-05-15T03:08:07.842673Z",
     "end_time": "2023-05-15T03:08:09.874947Z"
    }
   }
  },
  {
   "cell_type": "code",
   "execution_count": 3,
   "outputs": [
    {
     "data": {
      "text/plain": "array(['Baby', 'Calimerio', 'Chrysanthemum', 'Hydrangeas', 'Lisianthus',\n       'Pingpong', 'Rosy', 'Tana'], dtype=object)"
     },
     "execution_count": 3,
     "metadata": {},
     "output_type": "execute_result"
    }
   ],
   "source": [
    "class_encoder.classes_"
   ],
   "metadata": {
    "collapsed": false,
    "ExecuteTime": {
     "start_time": "2023-05-15T03:08:09.880039Z",
     "end_time": "2023-05-15T03:08:09.884383Z"
    }
   }
  },
  {
   "cell_type": "code",
   "execution_count": 4,
   "outputs": [
    {
     "name": "stdout",
     "output_type": "stream",
     "text": [
      "<class 'pandas.core.frame.DataFrame'>\n",
      "RangeIndex: 16344 entries, 0 to 16343\n",
      "Data columns (total 10 columns):\n",
      " #   Column        Non-Null Count  Dtype  \n",
      "---  ------        --------------  -----  \n",
      " 0   ImgPath       16344 non-null  object \n",
      " 1   FileType      16344 non-null  object \n",
      " 2   Width         16344 non-null  int64  \n",
      " 3   Height        16344 non-null  int64  \n",
      " 4   Ratio         16344 non-null  float64\n",
      " 5   Mode          16344 non-null  object \n",
      " 6   Bands         16344 non-null  object \n",
      " 7   Transparency  16344 non-null  bool   \n",
      " 8   Animated      16344 non-null  bool   \n",
      " 9   Class         16344 non-null  int32  \n",
      "dtypes: bool(2), float64(1), int32(1), int64(2), object(4)\n",
      "memory usage: 989.7+ KB\n"
     ]
    }
   ],
   "source": [
    "df.info()"
   ],
   "metadata": {
    "collapsed": false,
    "ExecuteTime": {
     "start_time": "2023-05-15T03:08:09.885417Z",
     "end_time": "2023-05-15T03:08:09.903901Z"
    }
   }
  },
  {
   "cell_type": "code",
   "execution_count": 5,
   "outputs": [
    {
     "data": {
      "text/plain": "                                   ImgPath FileType  Width  Height  Ratio   \n15728                    Tana/tana_105.jpg      jpg    512     512    1.0  \\\n10549                  Pingpong/000279.jpg      jpg    512     512    1.0   \n476                        Baby/000477.jpg      jpg    512     512    1.0   \n13796                      Rosy/001504.jpg      jpg    512     512    1.0   \n9416         Lisianthus/lisianthus_201.jpg      jpg    512     512    1.0   \n10843                  Pingpong/000573.jpg      jpg    512     512    1.0   \n12634                      Rosy/000342.jpg      jpg    512     512    1.0   \n11220                  Pingpong/000950.jpg      jpg    512     512    1.0   \n15794                    Tana/tana_165.jpg      jpg    512     512    1.0   \n4526              Chrysanthemum/000446.jpg      jpg    512     512    1.0   \n9987         Lisianthus/lisianthus_716.jpg      jpg    512     512    1.0   \n7305                 Hydrangeas/001173.jpg      jpg    512     512    1.0   \n290                        Baby/000291.jpg      jpg    512     512    1.0   \n322                        Baby/000323.jpg      jpg    512     512    1.0   \n7093                 Hydrangeas/000961.jpg      jpg    512     512    1.0   \n15050                      Tana/000756.jpg      jpg    512     512    1.0   \n9997         Lisianthus/lisianthus_725.jpg      jpg    512     512    1.0   \n8919                 Lisianthus/000739.jpg      jpg    512     512    1.0   \n3728                  Calimerio/001667.jpg      jpg    512     512    1.0   \n1739                     Baby/baby_647.jpg      jpg    512     512    1.0   \n12696                      Rosy/000404.jpg      jpg    512     512    1.0   \n304                        Baby/000305.jpg      jpg    512     512    1.0   \n11674                  Pingpong/001404.jpg      jpg    512     512    1.0   \n15742                    Tana/tana_118.jpg      jpg    512     512    1.0   \n8494                 Lisianthus/000314.jpg      jpg    512     512    1.0   \n14797                      Tana/000503.jpg      jpg    512     512    1.0   \n102                        Baby/000103.jpg      jpg    512     512    1.0   \n5464   Chrysanthemum/chrysanthemum_123.jpg      jpg    512     512    1.0   \n7085                 Hydrangeas/000953.jpg      jpg    512     512    1.0   \n5814   Chrysanthemum/chrysanthemum_439.jpg      jpg    512     512    1.0   \n1493                     Baby/baby_425.jpg      jpg    512     512    1.0   \n9675         Lisianthus/lisianthus_435.jpg      jpg    512     512    1.0   \n8250                 Lisianthus/000070.jpg      jpg    512     512    1.0   \n7981         Hydrangeas/hydrangeas_386.jpg      jpg    512     512    1.0   \n11621                  Pingpong/001351.jpg      jpg    512     512    1.0   \n387                        Baby/000388.jpg      jpg    512     512    1.0   \n1769                     Baby/baby_674.jpg      jpg    512     512    1.0   \n9581         Lisianthus/lisianthus_350.jpg      jpg    512     512    1.0   \n2087                  Calimerio/000026.jpg      jpg    512     512    1.0   \n12158            Pingpong/pingpong_301.jpg      jpg    512     512    1.0   \n4802              Chrysanthemum/000725.jpg      jpg    512     512    1.0   \n15094                      Tana/000800.jpg      jpg    512     512    1.0   \n\n      Mode  Bands  Transparency  Animated  Class  \n15728  RGB  R G B         False     False      7  \n10549  RGB  R G B         False     False      5  \n476    RGB  R G B         False     False      0  \n13796  RGB  R G B         False     False      6  \n9416   RGB  R G B         False     False      4  \n10843  RGB  R G B         False     False      5  \n12634  RGB  R G B         False     False      6  \n11220  RGB  R G B         False     False      5  \n15794  RGB  R G B         False     False      7  \n4526   RGB  R G B         False     False      2  \n9987   RGB  R G B         False     False      4  \n7305   RGB  R G B         False     False      3  \n290    RGB  R G B         False     False      0  \n322    RGB  R G B         False     False      0  \n7093   RGB  R G B         False     False      3  \n15050  RGB  R G B         False     False      7  \n9997   RGB  R G B         False     False      4  \n8919   RGB  R G B         False     False      4  \n3728   RGB  R G B         False     False      1  \n1739   RGB  R G B         False     False      0  \n12696  RGB  R G B         False     False      6  \n304    RGB  R G B         False     False      0  \n11674  RGB  R G B         False     False      5  \n15742  RGB  R G B         False     False      7  \n8494   RGB  R G B         False     False      4  \n14797  RGB  R G B         False     False      7  \n102    RGB  R G B         False     False      0  \n5464   RGB  R G B         False     False      2  \n7085   RGB  R G B         False     False      3  \n5814   RGB  R G B         False     False      2  \n1493   RGB  R G B         False     False      0  \n9675   RGB  R G B         False     False      4  \n8250   RGB  R G B         False     False      4  \n7981   RGB  R G B         False     False      3  \n11621  RGB  R G B         False     False      5  \n387    RGB  R G B         False     False      0  \n1769   RGB  R G B         False     False      0  \n9581   RGB  R G B         False     False      4  \n2087   RGB  R G B         False     False      1  \n12158  RGB  R G B         False     False      5  \n4802   RGB  R G B         False     False      2  \n15094  RGB  R G B         False     False      7  ",
      "text/html": "<div>\n<style scoped>\n    .dataframe tbody tr th:only-of-type {\n        vertical-align: middle;\n    }\n\n    .dataframe tbody tr th {\n        vertical-align: top;\n    }\n\n    .dataframe thead th {\n        text-align: right;\n    }\n</style>\n<table border=\"1\" class=\"dataframe\">\n  <thead>\n    <tr style=\"text-align: right;\">\n      <th></th>\n      <th>ImgPath</th>\n      <th>FileType</th>\n      <th>Width</th>\n      <th>Height</th>\n      <th>Ratio</th>\n      <th>Mode</th>\n      <th>Bands</th>\n      <th>Transparency</th>\n      <th>Animated</th>\n      <th>Class</th>\n    </tr>\n  </thead>\n  <tbody>\n    <tr>\n      <th>15728</th>\n      <td>Tana/tana_105.jpg</td>\n      <td>jpg</td>\n      <td>512</td>\n      <td>512</td>\n      <td>1.0</td>\n      <td>RGB</td>\n      <td>R G B</td>\n      <td>False</td>\n      <td>False</td>\n      <td>7</td>\n    </tr>\n    <tr>\n      <th>10549</th>\n      <td>Pingpong/000279.jpg</td>\n      <td>jpg</td>\n      <td>512</td>\n      <td>512</td>\n      <td>1.0</td>\n      <td>RGB</td>\n      <td>R G B</td>\n      <td>False</td>\n      <td>False</td>\n      <td>5</td>\n    </tr>\n    <tr>\n      <th>476</th>\n      <td>Baby/000477.jpg</td>\n      <td>jpg</td>\n      <td>512</td>\n      <td>512</td>\n      <td>1.0</td>\n      <td>RGB</td>\n      <td>R G B</td>\n      <td>False</td>\n      <td>False</td>\n      <td>0</td>\n    </tr>\n    <tr>\n      <th>13796</th>\n      <td>Rosy/001504.jpg</td>\n      <td>jpg</td>\n      <td>512</td>\n      <td>512</td>\n      <td>1.0</td>\n      <td>RGB</td>\n      <td>R G B</td>\n      <td>False</td>\n      <td>False</td>\n      <td>6</td>\n    </tr>\n    <tr>\n      <th>9416</th>\n      <td>Lisianthus/lisianthus_201.jpg</td>\n      <td>jpg</td>\n      <td>512</td>\n      <td>512</td>\n      <td>1.0</td>\n      <td>RGB</td>\n      <td>R G B</td>\n      <td>False</td>\n      <td>False</td>\n      <td>4</td>\n    </tr>\n    <tr>\n      <th>10843</th>\n      <td>Pingpong/000573.jpg</td>\n      <td>jpg</td>\n      <td>512</td>\n      <td>512</td>\n      <td>1.0</td>\n      <td>RGB</td>\n      <td>R G B</td>\n      <td>False</td>\n      <td>False</td>\n      <td>5</td>\n    </tr>\n    <tr>\n      <th>12634</th>\n      <td>Rosy/000342.jpg</td>\n      <td>jpg</td>\n      <td>512</td>\n      <td>512</td>\n      <td>1.0</td>\n      <td>RGB</td>\n      <td>R G B</td>\n      <td>False</td>\n      <td>False</td>\n      <td>6</td>\n    </tr>\n    <tr>\n      <th>11220</th>\n      <td>Pingpong/000950.jpg</td>\n      <td>jpg</td>\n      <td>512</td>\n      <td>512</td>\n      <td>1.0</td>\n      <td>RGB</td>\n      <td>R G B</td>\n      <td>False</td>\n      <td>False</td>\n      <td>5</td>\n    </tr>\n    <tr>\n      <th>15794</th>\n      <td>Tana/tana_165.jpg</td>\n      <td>jpg</td>\n      <td>512</td>\n      <td>512</td>\n      <td>1.0</td>\n      <td>RGB</td>\n      <td>R G B</td>\n      <td>False</td>\n      <td>False</td>\n      <td>7</td>\n    </tr>\n    <tr>\n      <th>4526</th>\n      <td>Chrysanthemum/000446.jpg</td>\n      <td>jpg</td>\n      <td>512</td>\n      <td>512</td>\n      <td>1.0</td>\n      <td>RGB</td>\n      <td>R G B</td>\n      <td>False</td>\n      <td>False</td>\n      <td>2</td>\n    </tr>\n    <tr>\n      <th>9987</th>\n      <td>Lisianthus/lisianthus_716.jpg</td>\n      <td>jpg</td>\n      <td>512</td>\n      <td>512</td>\n      <td>1.0</td>\n      <td>RGB</td>\n      <td>R G B</td>\n      <td>False</td>\n      <td>False</td>\n      <td>4</td>\n    </tr>\n    <tr>\n      <th>7305</th>\n      <td>Hydrangeas/001173.jpg</td>\n      <td>jpg</td>\n      <td>512</td>\n      <td>512</td>\n      <td>1.0</td>\n      <td>RGB</td>\n      <td>R G B</td>\n      <td>False</td>\n      <td>False</td>\n      <td>3</td>\n    </tr>\n    <tr>\n      <th>290</th>\n      <td>Baby/000291.jpg</td>\n      <td>jpg</td>\n      <td>512</td>\n      <td>512</td>\n      <td>1.0</td>\n      <td>RGB</td>\n      <td>R G B</td>\n      <td>False</td>\n      <td>False</td>\n      <td>0</td>\n    </tr>\n    <tr>\n      <th>322</th>\n      <td>Baby/000323.jpg</td>\n      <td>jpg</td>\n      <td>512</td>\n      <td>512</td>\n      <td>1.0</td>\n      <td>RGB</td>\n      <td>R G B</td>\n      <td>False</td>\n      <td>False</td>\n      <td>0</td>\n    </tr>\n    <tr>\n      <th>7093</th>\n      <td>Hydrangeas/000961.jpg</td>\n      <td>jpg</td>\n      <td>512</td>\n      <td>512</td>\n      <td>1.0</td>\n      <td>RGB</td>\n      <td>R G B</td>\n      <td>False</td>\n      <td>False</td>\n      <td>3</td>\n    </tr>\n    <tr>\n      <th>15050</th>\n      <td>Tana/000756.jpg</td>\n      <td>jpg</td>\n      <td>512</td>\n      <td>512</td>\n      <td>1.0</td>\n      <td>RGB</td>\n      <td>R G B</td>\n      <td>False</td>\n      <td>False</td>\n      <td>7</td>\n    </tr>\n    <tr>\n      <th>9997</th>\n      <td>Lisianthus/lisianthus_725.jpg</td>\n      <td>jpg</td>\n      <td>512</td>\n      <td>512</td>\n      <td>1.0</td>\n      <td>RGB</td>\n      <td>R G B</td>\n      <td>False</td>\n      <td>False</td>\n      <td>4</td>\n    </tr>\n    <tr>\n      <th>8919</th>\n      <td>Lisianthus/000739.jpg</td>\n      <td>jpg</td>\n      <td>512</td>\n      <td>512</td>\n      <td>1.0</td>\n      <td>RGB</td>\n      <td>R G B</td>\n      <td>False</td>\n      <td>False</td>\n      <td>4</td>\n    </tr>\n    <tr>\n      <th>3728</th>\n      <td>Calimerio/001667.jpg</td>\n      <td>jpg</td>\n      <td>512</td>\n      <td>512</td>\n      <td>1.0</td>\n      <td>RGB</td>\n      <td>R G B</td>\n      <td>False</td>\n      <td>False</td>\n      <td>1</td>\n    </tr>\n    <tr>\n      <th>1739</th>\n      <td>Baby/baby_647.jpg</td>\n      <td>jpg</td>\n      <td>512</td>\n      <td>512</td>\n      <td>1.0</td>\n      <td>RGB</td>\n      <td>R G B</td>\n      <td>False</td>\n      <td>False</td>\n      <td>0</td>\n    </tr>\n    <tr>\n      <th>12696</th>\n      <td>Rosy/000404.jpg</td>\n      <td>jpg</td>\n      <td>512</td>\n      <td>512</td>\n      <td>1.0</td>\n      <td>RGB</td>\n      <td>R G B</td>\n      <td>False</td>\n      <td>False</td>\n      <td>6</td>\n    </tr>\n    <tr>\n      <th>304</th>\n      <td>Baby/000305.jpg</td>\n      <td>jpg</td>\n      <td>512</td>\n      <td>512</td>\n      <td>1.0</td>\n      <td>RGB</td>\n      <td>R G B</td>\n      <td>False</td>\n      <td>False</td>\n      <td>0</td>\n    </tr>\n    <tr>\n      <th>11674</th>\n      <td>Pingpong/001404.jpg</td>\n      <td>jpg</td>\n      <td>512</td>\n      <td>512</td>\n      <td>1.0</td>\n      <td>RGB</td>\n      <td>R G B</td>\n      <td>False</td>\n      <td>False</td>\n      <td>5</td>\n    </tr>\n    <tr>\n      <th>15742</th>\n      <td>Tana/tana_118.jpg</td>\n      <td>jpg</td>\n      <td>512</td>\n      <td>512</td>\n      <td>1.0</td>\n      <td>RGB</td>\n      <td>R G B</td>\n      <td>False</td>\n      <td>False</td>\n      <td>7</td>\n    </tr>\n    <tr>\n      <th>8494</th>\n      <td>Lisianthus/000314.jpg</td>\n      <td>jpg</td>\n      <td>512</td>\n      <td>512</td>\n      <td>1.0</td>\n      <td>RGB</td>\n      <td>R G B</td>\n      <td>False</td>\n      <td>False</td>\n      <td>4</td>\n    </tr>\n    <tr>\n      <th>14797</th>\n      <td>Tana/000503.jpg</td>\n      <td>jpg</td>\n      <td>512</td>\n      <td>512</td>\n      <td>1.0</td>\n      <td>RGB</td>\n      <td>R G B</td>\n      <td>False</td>\n      <td>False</td>\n      <td>7</td>\n    </tr>\n    <tr>\n      <th>102</th>\n      <td>Baby/000103.jpg</td>\n      <td>jpg</td>\n      <td>512</td>\n      <td>512</td>\n      <td>1.0</td>\n      <td>RGB</td>\n      <td>R G B</td>\n      <td>False</td>\n      <td>False</td>\n      <td>0</td>\n    </tr>\n    <tr>\n      <th>5464</th>\n      <td>Chrysanthemum/chrysanthemum_123.jpg</td>\n      <td>jpg</td>\n      <td>512</td>\n      <td>512</td>\n      <td>1.0</td>\n      <td>RGB</td>\n      <td>R G B</td>\n      <td>False</td>\n      <td>False</td>\n      <td>2</td>\n    </tr>\n    <tr>\n      <th>7085</th>\n      <td>Hydrangeas/000953.jpg</td>\n      <td>jpg</td>\n      <td>512</td>\n      <td>512</td>\n      <td>1.0</td>\n      <td>RGB</td>\n      <td>R G B</td>\n      <td>False</td>\n      <td>False</td>\n      <td>3</td>\n    </tr>\n    <tr>\n      <th>5814</th>\n      <td>Chrysanthemum/chrysanthemum_439.jpg</td>\n      <td>jpg</td>\n      <td>512</td>\n      <td>512</td>\n      <td>1.0</td>\n      <td>RGB</td>\n      <td>R G B</td>\n      <td>False</td>\n      <td>False</td>\n      <td>2</td>\n    </tr>\n    <tr>\n      <th>1493</th>\n      <td>Baby/baby_425.jpg</td>\n      <td>jpg</td>\n      <td>512</td>\n      <td>512</td>\n      <td>1.0</td>\n      <td>RGB</td>\n      <td>R G B</td>\n      <td>False</td>\n      <td>False</td>\n      <td>0</td>\n    </tr>\n    <tr>\n      <th>9675</th>\n      <td>Lisianthus/lisianthus_435.jpg</td>\n      <td>jpg</td>\n      <td>512</td>\n      <td>512</td>\n      <td>1.0</td>\n      <td>RGB</td>\n      <td>R G B</td>\n      <td>False</td>\n      <td>False</td>\n      <td>4</td>\n    </tr>\n    <tr>\n      <th>8250</th>\n      <td>Lisianthus/000070.jpg</td>\n      <td>jpg</td>\n      <td>512</td>\n      <td>512</td>\n      <td>1.0</td>\n      <td>RGB</td>\n      <td>R G B</td>\n      <td>False</td>\n      <td>False</td>\n      <td>4</td>\n    </tr>\n    <tr>\n      <th>7981</th>\n      <td>Hydrangeas/hydrangeas_386.jpg</td>\n      <td>jpg</td>\n      <td>512</td>\n      <td>512</td>\n      <td>1.0</td>\n      <td>RGB</td>\n      <td>R G B</td>\n      <td>False</td>\n      <td>False</td>\n      <td>3</td>\n    </tr>\n    <tr>\n      <th>11621</th>\n      <td>Pingpong/001351.jpg</td>\n      <td>jpg</td>\n      <td>512</td>\n      <td>512</td>\n      <td>1.0</td>\n      <td>RGB</td>\n      <td>R G B</td>\n      <td>False</td>\n      <td>False</td>\n      <td>5</td>\n    </tr>\n    <tr>\n      <th>387</th>\n      <td>Baby/000388.jpg</td>\n      <td>jpg</td>\n      <td>512</td>\n      <td>512</td>\n      <td>1.0</td>\n      <td>RGB</td>\n      <td>R G B</td>\n      <td>False</td>\n      <td>False</td>\n      <td>0</td>\n    </tr>\n    <tr>\n      <th>1769</th>\n      <td>Baby/baby_674.jpg</td>\n      <td>jpg</td>\n      <td>512</td>\n      <td>512</td>\n      <td>1.0</td>\n      <td>RGB</td>\n      <td>R G B</td>\n      <td>False</td>\n      <td>False</td>\n      <td>0</td>\n    </tr>\n    <tr>\n      <th>9581</th>\n      <td>Lisianthus/lisianthus_350.jpg</td>\n      <td>jpg</td>\n      <td>512</td>\n      <td>512</td>\n      <td>1.0</td>\n      <td>RGB</td>\n      <td>R G B</td>\n      <td>False</td>\n      <td>False</td>\n      <td>4</td>\n    </tr>\n    <tr>\n      <th>2087</th>\n      <td>Calimerio/000026.jpg</td>\n      <td>jpg</td>\n      <td>512</td>\n      <td>512</td>\n      <td>1.0</td>\n      <td>RGB</td>\n      <td>R G B</td>\n      <td>False</td>\n      <td>False</td>\n      <td>1</td>\n    </tr>\n    <tr>\n      <th>12158</th>\n      <td>Pingpong/pingpong_301.jpg</td>\n      <td>jpg</td>\n      <td>512</td>\n      <td>512</td>\n      <td>1.0</td>\n      <td>RGB</td>\n      <td>R G B</td>\n      <td>False</td>\n      <td>False</td>\n      <td>5</td>\n    </tr>\n    <tr>\n      <th>4802</th>\n      <td>Chrysanthemum/000725.jpg</td>\n      <td>jpg</td>\n      <td>512</td>\n      <td>512</td>\n      <td>1.0</td>\n      <td>RGB</td>\n      <td>R G B</td>\n      <td>False</td>\n      <td>False</td>\n      <td>2</td>\n    </tr>\n    <tr>\n      <th>15094</th>\n      <td>Tana/000800.jpg</td>\n      <td>jpg</td>\n      <td>512</td>\n      <td>512</td>\n      <td>1.0</td>\n      <td>RGB</td>\n      <td>R G B</td>\n      <td>False</td>\n      <td>False</td>\n      <td>7</td>\n    </tr>\n  </tbody>\n</table>\n</div>"
     },
     "execution_count": 5,
     "metadata": {},
     "output_type": "execute_result"
    }
   ],
   "source": [
    "df.sample(n=42, random_state=42)"
   ],
   "metadata": {
    "collapsed": false,
    "ExecuteTime": {
     "start_time": "2023-05-15T03:08:09.905903Z",
     "end_time": "2023-05-15T03:08:09.946588Z"
    }
   }
  },
  {
   "cell_type": "code",
   "execution_count": 6,
   "outputs": [
    {
     "name": "stdout",
     "output_type": "stream",
     "text": [
      "Train data: 9806 samples, Validation Data: 3269 samples, Test Data: 3269 samples.\n"
     ]
    }
   ],
   "source": [
    "train, test = train_test_split(df, shuffle=True, test_size=0.2, random_state=42)\n",
    "train, val = train_test_split(train, shuffle=True, test_size=0.25, random_state=42)\n",
    "\n",
    "print(f'Train data: {train.shape[0]} samples, Validation Data: {val.shape[0]} samples, Test Data: {test.shape[0]} samples.')"
   ],
   "metadata": {
    "collapsed": false,
    "ExecuteTime": {
     "start_time": "2023-05-15T03:08:09.925589Z",
     "end_time": "2023-05-15T03:08:09.946588Z"
    }
   }
  },
  {
   "cell_type": "markdown",
   "source": [
    "## 3.2. Baseline Model Setup and Training"
   ],
   "metadata": {
    "collapsed": false
   }
  },
  {
   "cell_type": "markdown",
   "source": [
    "### 3.2.1. Baseline Parameters"
   ],
   "metadata": {
    "collapsed": false
   }
  },
  {
   "cell_type": "code",
   "execution_count": 7,
   "outputs": [],
   "source": [
    "# Model Parameters\n",
    "IMG_SIZE = 256\n",
    "BATCH_SIZE = 128\n",
    "INPUT_DIM = (IMG_SIZE, IMG_SIZE, 3)\n",
    "HIDDEN_LAYER_DIM = 128\n",
    "OUTPUT_CLASSES = 1  # Label encoded: sparse label output as a single integer\n",
    "\n",
    "# Training Parameters\n",
    "EPOCHS = 24\n",
    "LEARNING_RATE = 1e-3"
   ],
   "metadata": {
    "collapsed": false,
    "ExecuteTime": {
     "start_time": "2023-05-15T03:08:09.937172Z",
     "end_time": "2023-05-15T03:08:09.946588Z"
    }
   }
  },
  {
   "cell_type": "markdown",
   "source": [
    "### 3.2.2. Model Setup"
   ],
   "metadata": {
    "collapsed": false
   }
  },
  {
   "cell_type": "code",
   "execution_count": 8,
   "outputs": [
    {
     "name": "stdout",
     "output_type": "stream",
     "text": [
      "Model: \"sequential\"\n",
      "_________________________________________________________________\n",
      " Layer (type)                Output Shape              Param #   \n",
      "=================================================================\n",
      " flatten (Flatten)           (None, 196608)            0         \n",
      "                                                                 \n",
      " dense (Dense)               (None, 128)               25165952  \n",
      "                                                                 \n",
      " dense_1 (Dense)             (None, 128)               16512     \n",
      "                                                                 \n",
      " dense_2 (Dense)             (None, 128)               16512     \n",
      "                                                                 \n",
      " dense_3 (Dense)             (None, 128)               16512     \n",
      "                                                                 \n",
      " dense_4 (Dense)             (None, 1)                 129       \n",
      "                                                                 \n",
      "=================================================================\n",
      "Total params: 25,215,617\n",
      "Trainable params: 25,215,617\n",
      "Non-trainable params: 0\n",
      "_________________________________________________________________\n"
     ]
    }
   ],
   "source": [
    "model = tf.keras.Sequential([\n",
    "    tf.keras.layers.Flatten(input_shape=INPUT_DIM),\n",
    "    tf.keras.layers.Dense(HIDDEN_LAYER_DIM, activation='relu'),\n",
    "    tf.keras.layers.Dense(HIDDEN_LAYER_DIM, activation='relu'),\n",
    "    tf.keras.layers.Dense(HIDDEN_LAYER_DIM, activation='relu'),\n",
    "    tf.keras.layers.Dense(HIDDEN_LAYER_DIM, activation='sigmoid'),\n",
    "    tf.keras.layers.Dense(OUTPUT_CLASSES),\n",
    "])\n",
    "model.summary()"
   ],
   "metadata": {
    "collapsed": false,
    "ExecuteTime": {
     "start_time": "2023-05-15T03:08:09.942457Z",
     "end_time": "2023-05-15T03:08:10.192618Z"
    }
   }
  },
  {
   "cell_type": "code",
   "execution_count": 9,
   "outputs": [
    {
     "data": {
      "image/png": "[encoded data removed]",
      "text/plain": "<IPython.core.display.Image object>"
     },
     "execution_count": 9,
     "metadata": {},
     "output_type": "execute_result"
    }
   ],
   "source": [
    "tf.keras.utils.plot_model(model, show_shapes=True, to_file='images/BaselineModel-Diagram.png')"
   ],
   "metadata": {
    "collapsed": false,
    "ExecuteTime": {
     "start_time": "2023-05-15T03:08:10.181593Z",
     "end_time": "2023-05-15T03:08:10.466834Z"
    }
   }
  },
  {
   "cell_type": "markdown",
   "source": [
    "### 3.2.3. Training"
   ],
   "metadata": {
    "collapsed": false
   }
  },
  {
   "cell_type": "code",
   "execution_count": 10,
   "outputs": [
    {
     "name": "stdout",
     "output_type": "stream",
     "text": [
      "Found 9806 validated image filenames belonging to 8 classes.\n",
      "Found 3269 validated image filenames belonging to 8 classes.\n"
     ]
    }
   ],
   "source": [
    "train['Class'] = train['Class'].astype('str')\n",
    "train_datagen = ImageDataGenerator(data_format='channels_last')\n",
    "train_generator = train_datagen.flow_from_dataframe(\n",
    "    dataframe=train,\n",
    "    directory=dataset_dir,\n",
    "    x_col='ImgPath',\n",
    "    y_col='Class',\n",
    "    target_size=(IMG_SIZE, IMG_SIZE),\n",
    "    batch_size=BATCH_SIZE,\n",
    "    class_mode='sparse',\n",
    "    seed=42\n",
    ")\n",
    "\n",
    "val['Class'] = val['Class'].astype('str')\n",
    "val_datagen = ImageDataGenerator(data_format='channels_last')\n",
    "val_generator = val_datagen.flow_from_dataframe(\n",
    "    dataframe=val,\n",
    "    directory=dataset_dir,\n",
    "    x_col='ImgPath',\n",
    "    y_col='Class',\n",
    "    target_size=(IMG_SIZE, IMG_SIZE),\n",
    "    batch_size=BATCH_SIZE,\n",
    "    class_mode='sparse',\n",
    "    seed=42\n",
    ")"
   ],
   "metadata": {
    "collapsed": false,
    "ExecuteTime": {
     "start_time": "2023-05-15T03:08:10.465843Z",
     "end_time": "2023-05-15T03:08:11.307776Z"
    }
   }
  },
  {
   "cell_type": "code",
   "execution_count": 11,
   "outputs": [
    {
     "ename": "InvalidArgumentError",
     "evalue": "Graph execution error:\n\nDetected at node 'sparse_categorical_crossentropy/SparseSoftmaxCrossEntropyWithLogits/SparseSoftmaxCrossEntropyWithLogits' defined at (most recent call last):\n    File \"<frozen runpy>\", line 198, in _run_module_as_main\n    File \"<frozen runpy>\", line 88, in _run_code\n    File \"C:\\Users\\vomin\\Projects\\rmit\\cosc2753\\rmit2023a-cosc2753-assignment2\\venv\\Lib\\site-packages\\ipykernel_launcher.py\", line 17, in <module>\n      app.launch_new_instance()\n    File \"C:\\Users\\vomin\\Projects\\rmit\\cosc2753\\rmit2023a-cosc2753-assignment2\\venv\\Lib\\site-packages\\traitlets\\config\\application.py\", line 1043, in launch_instance\n      app.start()\n    File \"C:\\Users\\vomin\\Projects\\rmit\\cosc2753\\rmit2023a-cosc2753-assignment2\\venv\\Lib\\site-packages\\ipykernel\\kernelapp.py\", line 725, in start\n      self.io_loop.start()\n    File \"C:\\Users\\vomin\\Projects\\rmit\\cosc2753\\rmit2023a-cosc2753-assignment2\\venv\\Lib\\site-packages\\tornado\\platform\\asyncio.py\", line 195, in start\n      self.asyncio_loop.run_forever()\n    File \"C:\\Users\\vomin\\scoop\\apps\\python\\current\\Lib\\asyncio\\base_events.py\", line 607, in run_forever\n      self._run_once()\n    File \"C:\\Users\\vomin\\scoop\\apps\\python\\current\\Lib\\asyncio\\base_events.py\", line 1922, in _run_once\n      handle._run()\n    File \"C:\\Users\\vomin\\scoop\\apps\\python\\current\\Lib\\asyncio\\events.py\", line 80, in _run\n      self._context.run(self._callback, *self._args)\n    File \"C:\\Users\\vomin\\Projects\\rmit\\cosc2753\\rmit2023a-cosc2753-assignment2\\venv\\Lib\\site-packages\\ipykernel\\kernelbase.py\", line 513, in dispatch_queue\n      await self.process_one()\n    File \"C:\\Users\\vomin\\Projects\\rmit\\cosc2753\\rmit2023a-cosc2753-assignment2\\venv\\Lib\\site-packages\\ipykernel\\kernelbase.py\", line 502, in process_one\n      await dispatch(*args)\n    File \"C:\\Users\\vomin\\Projects\\rmit\\cosc2753\\rmit2023a-cosc2753-assignment2\\venv\\Lib\\site-packages\\ipykernel\\kernelbase.py\", line 409, in dispatch_shell\n      await result\n    File \"C:\\Users\\vomin\\Projects\\rmit\\cosc2753\\rmit2023a-cosc2753-assignment2\\venv\\Lib\\site-packages\\ipykernel\\kernelbase.py\", line 729, in execute_request\n      reply_content = await reply_content\n    File \"C:\\Users\\vomin\\Projects\\rmit\\cosc2753\\rmit2023a-cosc2753-assignment2\\venv\\Lib\\site-packages\\ipykernel\\ipkernel.py\", line 422, in do_execute\n      res = shell.run_cell(\n    File \"C:\\Users\\vomin\\Projects\\rmit\\cosc2753\\rmit2023a-cosc2753-assignment2\\venv\\Lib\\site-packages\\ipykernel\\zmqshell.py\", line 540, in run_cell\n      return super().run_cell(*args, **kwargs)\n    File \"C:\\Users\\vomin\\Projects\\rmit\\cosc2753\\rmit2023a-cosc2753-assignment2\\venv\\Lib\\site-packages\\IPython\\core\\interactiveshell.py\", line 3009, in run_cell\n      result = self._run_cell(\n    File \"C:\\Users\\vomin\\Projects\\rmit\\cosc2753\\rmit2023a-cosc2753-assignment2\\venv\\Lib\\site-packages\\IPython\\core\\interactiveshell.py\", line 3064, in _run_cell\n      result = runner(coro)\n    File \"C:\\Users\\vomin\\Projects\\rmit\\cosc2753\\rmit2023a-cosc2753-assignment2\\venv\\Lib\\site-packages\\IPython\\core\\async_helpers.py\", line 129, in _pseudo_sync_runner\n      coro.send(None)\n    File \"C:\\Users\\vomin\\Projects\\rmit\\cosc2753\\rmit2023a-cosc2753-assignment2\\venv\\Lib\\site-packages\\IPython\\core\\interactiveshell.py\", line 3269, in run_cell_async\n      has_raised = await self.run_ast_nodes(code_ast.body, cell_name,\n    File \"C:\\Users\\vomin\\Projects\\rmit\\cosc2753\\rmit2023a-cosc2753-assignment2\\venv\\Lib\\site-packages\\IPython\\core\\interactiveshell.py\", line 3448, in run_ast_nodes\n      if await self.run_code(code, result, async_=asy):\n    File \"C:\\Users\\vomin\\Projects\\rmit\\cosc2753\\rmit2023a-cosc2753-assignment2\\venv\\Lib\\site-packages\\IPython\\core\\interactiveshell.py\", line 3508, in run_code\n      exec(code_obj, self.user_global_ns, self.user_ns)\n    File \"C:\\Users\\vomin\\AppData\\Local\\Temp\\ipykernel_28544\\3710190369.py\", line 7, in <module>\n      history = model.fit(train_generator, validation_data=val_generator, epochs=EPOCHS, verbose=0)\n    File \"C:\\Users\\vomin\\Projects\\rmit\\cosc2753\\rmit2023a-cosc2753-assignment2\\venv\\Lib\\site-packages\\keras\\utils\\traceback_utils.py\", line 65, in error_handler\n      return fn(*args, **kwargs)\n    File \"C:\\Users\\vomin\\Projects\\rmit\\cosc2753\\rmit2023a-cosc2753-assignment2\\venv\\Lib\\site-packages\\keras\\engine\\training.py\", line 1685, in fit\n      tmp_logs = self.train_function(iterator)\n    File \"C:\\Users\\vomin\\Projects\\rmit\\cosc2753\\rmit2023a-cosc2753-assignment2\\venv\\Lib\\site-packages\\keras\\engine\\training.py\", line 1284, in train_function\n      return step_function(self, iterator)\n    File \"C:\\Users\\vomin\\Projects\\rmit\\cosc2753\\rmit2023a-cosc2753-assignment2\\venv\\Lib\\site-packages\\keras\\engine\\training.py\", line 1268, in step_function\n      outputs = model.distribute_strategy.run(run_step, args=(data,))\n    File \"C:\\Users\\vomin\\Projects\\rmit\\cosc2753\\rmit2023a-cosc2753-assignment2\\venv\\Lib\\site-packages\\keras\\engine\\training.py\", line 1249, in run_step\n      outputs = model.train_step(data)\n    File \"C:\\Users\\vomin\\Projects\\rmit\\cosc2753\\rmit2023a-cosc2753-assignment2\\venv\\Lib\\site-packages\\keras\\engine\\training.py\", line 1051, in train_step\n      loss = self.compute_loss(x, y, y_pred, sample_weight)\n    File \"C:\\Users\\vomin\\Projects\\rmit\\cosc2753\\rmit2023a-cosc2753-assignment2\\venv\\Lib\\site-packages\\keras\\engine\\training.py\", line 1109, in compute_loss\n      return self.compiled_loss(\n    File \"C:\\Users\\vomin\\Projects\\rmit\\cosc2753\\rmit2023a-cosc2753-assignment2\\venv\\Lib\\site-packages\\keras\\engine\\compile_utils.py\", line 265, in __call__\n      loss_value = loss_obj(y_t, y_p, sample_weight=sw)\n    File \"C:\\Users\\vomin\\Projects\\rmit\\cosc2753\\rmit2023a-cosc2753-assignment2\\venv\\Lib\\site-packages\\keras\\losses.py\", line 142, in __call__\n      losses = call_fn(y_true, y_pred)\n    File \"C:\\Users\\vomin\\Projects\\rmit\\cosc2753\\rmit2023a-cosc2753-assignment2\\venv\\Lib\\site-packages\\keras\\losses.py\", line 268, in call\n      return ag_fn(y_true, y_pred, **self._fn_kwargs)\n    File \"C:\\Users\\vomin\\Projects\\rmit\\cosc2753\\rmit2023a-cosc2753-assignment2\\venv\\Lib\\site-packages\\keras\\losses.py\", line 2078, in sparse_categorical_crossentropy\n      return backend.sparse_categorical_crossentropy(\n    File \"C:\\Users\\vomin\\Projects\\rmit\\cosc2753\\rmit2023a-cosc2753-assignment2\\venv\\Lib\\site-packages\\keras\\backend.py\", line 5660, in sparse_categorical_crossentropy\n      res = tf.nn.sparse_softmax_cross_entropy_with_logits(\nNode: 'sparse_categorical_crossentropy/SparseSoftmaxCrossEntropyWithLogits/SparseSoftmaxCrossEntropyWithLogits'\nReceived a label value of 7 which is outside the valid range of [0, 1).  Label values: 5 1 5 2 6 5 1 4 1 1 4 2 0 3 5 0 1 7 2 7 0 6 4 5 0 7 7 3 4 3 4 6 3 7 4 0 2 0 0 1 3 6 6 4 3 5 5 0 5 0 0 5 2 6 2 1 4 0 3 6 1 1 7 0 7 4 1 2 7 0 6 0 5 4 5 2 0 5 3 2 3 0 7 0 5 7 1 3 3 3 2 7 7 1 7 7 2 1 6 4 3 2 3 0 6 3 1 7 7 2 3 5 0 5 2 0 2 3 5 2 6 3 5 4 6 2 2 6\n\t [[{{node sparse_categorical_crossentropy/SparseSoftmaxCrossEntropyWithLogits/SparseSoftmaxCrossEntropyWithLogits}}]] [Op:__inference_train_function_1410]",
     "output_type": "error",
     "traceback": [
      "\u001B[1;31m---------------------------------------------------------------------------\u001B[0m",
      "\u001B[1;31mInvalidArgumentError\u001B[0m                      Traceback (most recent call last)",
      "Cell \u001B[1;32mIn[11], line 7\u001B[0m\n\u001B[0;32m      1\u001B[0m model\u001B[38;5;241m.\u001B[39mcompile(\n\u001B[0;32m      2\u001B[0m     optimizer\u001B[38;5;241m=\u001B[39m\u001B[38;5;124m'\u001B[39m\u001B[38;5;124mAdam\u001B[39m\u001B[38;5;124m'\u001B[39m,\n\u001B[0;32m      3\u001B[0m     loss\u001B[38;5;241m=\u001B[39mtf\u001B[38;5;241m.\u001B[39mkeras\u001B[38;5;241m.\u001B[39mlosses\u001B[38;5;241m.\u001B[39mSparseCategoricalCrossentropy(from_logits\u001B[38;5;241m=\u001B[39m\u001B[38;5;28;01mTrue\u001B[39;00m),\n\u001B[0;32m      4\u001B[0m     metrics\u001B[38;5;241m=\u001B[39m[\u001B[38;5;124m'\u001B[39m\u001B[38;5;124msparse_categorical_accuracy\u001B[39m\u001B[38;5;124m'\u001B[39m]\n\u001B[0;32m      5\u001B[0m )\n\u001B[1;32m----> 7\u001B[0m history \u001B[38;5;241m=\u001B[39m \u001B[43mmodel\u001B[49m\u001B[38;5;241;43m.\u001B[39;49m\u001B[43mfit\u001B[49m\u001B[43m(\u001B[49m\u001B[43mtrain_generator\u001B[49m\u001B[43m,\u001B[49m\u001B[43m \u001B[49m\u001B[43mvalidation_data\u001B[49m\u001B[38;5;241;43m=\u001B[39;49m\u001B[43mval_generator\u001B[49m\u001B[43m,\u001B[49m\u001B[43m \u001B[49m\u001B[43mepochs\u001B[49m\u001B[38;5;241;43m=\u001B[39;49m\u001B[43mEPOCHS\u001B[49m\u001B[43m,\u001B[49m\u001B[43m \u001B[49m\u001B[43mverbose\u001B[49m\u001B[38;5;241;43m=\u001B[39;49m\u001B[38;5;241;43m0\u001B[39;49m\u001B[43m)\u001B[49m\n",
      "File \u001B[1;32m~\\Projects\\rmit\\cosc2753\\rmit2023a-cosc2753-assignment2\\venv\\Lib\\site-packages\\keras\\utils\\traceback_utils.py:70\u001B[0m, in \u001B[0;36mfilter_traceback.<locals>.error_handler\u001B[1;34m(*args, **kwargs)\u001B[0m\n\u001B[0;32m     67\u001B[0m     filtered_tb \u001B[38;5;241m=\u001B[39m _process_traceback_frames(e\u001B[38;5;241m.\u001B[39m__traceback__)\n\u001B[0;32m     68\u001B[0m     \u001B[38;5;66;03m# To get the full stack trace, call:\u001B[39;00m\n\u001B[0;32m     69\u001B[0m     \u001B[38;5;66;03m# `tf.debugging.disable_traceback_filtering()`\u001B[39;00m\n\u001B[1;32m---> 70\u001B[0m     \u001B[38;5;28;01mraise\u001B[39;00m e\u001B[38;5;241m.\u001B[39mwith_traceback(filtered_tb) \u001B[38;5;28;01mfrom\u001B[39;00m \u001B[38;5;28;01mNone\u001B[39;00m\n\u001B[0;32m     71\u001B[0m \u001B[38;5;28;01mfinally\u001B[39;00m:\n\u001B[0;32m     72\u001B[0m     \u001B[38;5;28;01mdel\u001B[39;00m filtered_tb\n",
      "File \u001B[1;32m~\\Projects\\rmit\\cosc2753\\rmit2023a-cosc2753-assignment2\\venv\\Lib\\site-packages\\tensorflow\\python\\eager\\execute.py:52\u001B[0m, in \u001B[0;36mquick_execute\u001B[1;34m(op_name, num_outputs, inputs, attrs, ctx, name)\u001B[0m\n\u001B[0;32m     50\u001B[0m \u001B[38;5;28;01mtry\u001B[39;00m:\n\u001B[0;32m     51\u001B[0m   ctx\u001B[38;5;241m.\u001B[39mensure_initialized()\n\u001B[1;32m---> 52\u001B[0m   tensors \u001B[38;5;241m=\u001B[39m pywrap_tfe\u001B[38;5;241m.\u001B[39mTFE_Py_Execute(ctx\u001B[38;5;241m.\u001B[39m_handle, device_name, op_name,\n\u001B[0;32m     53\u001B[0m                                       inputs, attrs, num_outputs)\n\u001B[0;32m     54\u001B[0m \u001B[38;5;28;01mexcept\u001B[39;00m core\u001B[38;5;241m.\u001B[39m_NotOkStatusException \u001B[38;5;28;01mas\u001B[39;00m e:\n\u001B[0;32m     55\u001B[0m   \u001B[38;5;28;01mif\u001B[39;00m name \u001B[38;5;129;01mis\u001B[39;00m \u001B[38;5;129;01mnot\u001B[39;00m \u001B[38;5;28;01mNone\u001B[39;00m:\n",
      "\u001B[1;31mInvalidArgumentError\u001B[0m: Graph execution error:\n\nDetected at node 'sparse_categorical_crossentropy/SparseSoftmaxCrossEntropyWithLogits/SparseSoftmaxCrossEntropyWithLogits' defined at (most recent call last):\n    File \"<frozen runpy>\", line 198, in _run_module_as_main\n    File \"<frozen runpy>\", line 88, in _run_code\n    File \"C:\\Users\\vomin\\Projects\\rmit\\cosc2753\\rmit2023a-cosc2753-assignment2\\venv\\Lib\\site-packages\\ipykernel_launcher.py\", line 17, in <module>\n      app.launch_new_instance()\n    File \"C:\\Users\\vomin\\Projects\\rmit\\cosc2753\\rmit2023a-cosc2753-assignment2\\venv\\Lib\\site-packages\\traitlets\\config\\application.py\", line 1043, in launch_instance\n      app.start()\n    File \"C:\\Users\\vomin\\Projects\\rmit\\cosc2753\\rmit2023a-cosc2753-assignment2\\venv\\Lib\\site-packages\\ipykernel\\kernelapp.py\", line 725, in start\n      self.io_loop.start()\n    File \"C:\\Users\\vomin\\Projects\\rmit\\cosc2753\\rmit2023a-cosc2753-assignment2\\venv\\Lib\\site-packages\\tornado\\platform\\asyncio.py\", line 195, in start\n      self.asyncio_loop.run_forever()\n    File \"C:\\Users\\vomin\\scoop\\apps\\python\\current\\Lib\\asyncio\\base_events.py\", line 607, in run_forever\n      self._run_once()\n    File \"C:\\Users\\vomin\\scoop\\apps\\python\\current\\Lib\\asyncio\\base_events.py\", line 1922, in _run_once\n      handle._run()\n    File \"C:\\Users\\vomin\\scoop\\apps\\python\\current\\Lib\\asyncio\\events.py\", line 80, in _run\n      self._context.run(self._callback, *self._args)\n    File \"C:\\Users\\vomin\\Projects\\rmit\\cosc2753\\rmit2023a-cosc2753-assignment2\\venv\\Lib\\site-packages\\ipykernel\\kernelbase.py\", line 513, in dispatch_queue\n      await self.process_one()\n    File \"C:\\Users\\vomin\\Projects\\rmit\\cosc2753\\rmit2023a-cosc2753-assignment2\\venv\\Lib\\site-packages\\ipykernel\\kernelbase.py\", line 502, in process_one\n      await dispatch(*args)\n    File \"C:\\Users\\vomin\\Projects\\rmit\\cosc2753\\rmit2023a-cosc2753-assignment2\\venv\\Lib\\site-packages\\ipykernel\\kernelbase.py\", line 409, in dispatch_shell\n      await result\n    File \"C:\\Users\\vomin\\Projects\\rmit\\cosc2753\\rmit2023a-cosc2753-assignment2\\venv\\Lib\\site-packages\\ipykernel\\kernelbase.py\", line 729, in execute_request\n      reply_content = await reply_content\n    File \"C:\\Users\\vomin\\Projects\\rmit\\cosc2753\\rmit2023a-cosc2753-assignment2\\venv\\Lib\\site-packages\\ipykernel\\ipkernel.py\", line 422, in do_execute\n      res = shell.run_cell(\n    File \"C:\\Users\\vomin\\Projects\\rmit\\cosc2753\\rmit2023a-cosc2753-assignment2\\venv\\Lib\\site-packages\\ipykernel\\zmqshell.py\", line 540, in run_cell\n      return super().run_cell(*args, **kwargs)\n    File \"C:\\Users\\vomin\\Projects\\rmit\\cosc2753\\rmit2023a-cosc2753-assignment2\\venv\\Lib\\site-packages\\IPython\\core\\interactiveshell.py\", line 3009, in run_cell\n      result = self._run_cell(\n    File \"C:\\Users\\vomin\\Projects\\rmit\\cosc2753\\rmit2023a-cosc2753-assignment2\\venv\\Lib\\site-packages\\IPython\\core\\interactiveshell.py\", line 3064, in _run_cell\n      result = runner(coro)\n    File \"C:\\Users\\vomin\\Projects\\rmit\\cosc2753\\rmit2023a-cosc2753-assignment2\\venv\\Lib\\site-packages\\IPython\\core\\async_helpers.py\", line 129, in _pseudo_sync_runner\n      coro.send(None)\n    File \"C:\\Users\\vomin\\Projects\\rmit\\cosc2753\\rmit2023a-cosc2753-assignment2\\venv\\Lib\\site-packages\\IPython\\core\\interactiveshell.py\", line 3269, in run_cell_async\n      has_raised = await self.run_ast_nodes(code_ast.body, cell_name,\n    File \"C:\\Users\\vomin\\Projects\\rmit\\cosc2753\\rmit2023a-cosc2753-assignment2\\venv\\Lib\\site-packages\\IPython\\core\\interactiveshell.py\", line 3448, in run_ast_nodes\n      if await self.run_code(code, result, async_=asy):\n    File \"C:\\Users\\vomin\\Projects\\rmit\\cosc2753\\rmit2023a-cosc2753-assignment2\\venv\\Lib\\site-packages\\IPython\\core\\interactiveshell.py\", line 3508, in run_code\n      exec(code_obj, self.user_global_ns, self.user_ns)\n    File \"C:\\Users\\vomin\\AppData\\Local\\Temp\\ipykernel_28544\\3710190369.py\", line 7, in <module>\n      history = model.fit(train_generator, validation_data=val_generator, epochs=EPOCHS, verbose=0)\n    File \"C:\\Users\\vomin\\Projects\\rmit\\cosc2753\\rmit2023a-cosc2753-assignment2\\venv\\Lib\\site-packages\\keras\\utils\\traceback_utils.py\", line 65, in error_handler\n      return fn(*args, **kwargs)\n    File \"C:\\Users\\vomin\\Projects\\rmit\\cosc2753\\rmit2023a-cosc2753-assignment2\\venv\\Lib\\site-packages\\keras\\engine\\training.py\", line 1685, in fit\n      tmp_logs = self.train_function(iterator)\n    File \"C:\\Users\\vomin\\Projects\\rmit\\cosc2753\\rmit2023a-cosc2753-assignment2\\venv\\Lib\\site-packages\\keras\\engine\\training.py\", line 1284, in train_function\n      return step_function(self, iterator)\n    File \"C:\\Users\\vomin\\Projects\\rmit\\cosc2753\\rmit2023a-cosc2753-assignment2\\venv\\Lib\\site-packages\\keras\\engine\\training.py\", line 1268, in step_function\n      outputs = model.distribute_strategy.run(run_step, args=(data,))\n    File \"C:\\Users\\vomin\\Projects\\rmit\\cosc2753\\rmit2023a-cosc2753-assignment2\\venv\\Lib\\site-packages\\keras\\engine\\training.py\", line 1249, in run_step\n      outputs = model.train_step(data)\n    File \"C:\\Users\\vomin\\Projects\\rmit\\cosc2753\\rmit2023a-cosc2753-assignment2\\venv\\Lib\\site-packages\\keras\\engine\\training.py\", line 1051, in train_step\n      loss = self.compute_loss(x, y, y_pred, sample_weight)\n    File \"C:\\Users\\vomin\\Projects\\rmit\\cosc2753\\rmit2023a-cosc2753-assignment2\\venv\\Lib\\site-packages\\keras\\engine\\training.py\", line 1109, in compute_loss\n      return self.compiled_loss(\n    File \"C:\\Users\\vomin\\Projects\\rmit\\cosc2753\\rmit2023a-cosc2753-assignment2\\venv\\Lib\\site-packages\\keras\\engine\\compile_utils.py\", line 265, in __call__\n      loss_value = loss_obj(y_t, y_p, sample_weight=sw)\n    File \"C:\\Users\\vomin\\Projects\\rmit\\cosc2753\\rmit2023a-cosc2753-assignment2\\venv\\Lib\\site-packages\\keras\\losses.py\", line 142, in __call__\n      losses = call_fn(y_true, y_pred)\n    File \"C:\\Users\\vomin\\Projects\\rmit\\cosc2753\\rmit2023a-cosc2753-assignment2\\venv\\Lib\\site-packages\\keras\\losses.py\", line 268, in call\n      return ag_fn(y_true, y_pred, **self._fn_kwargs)\n    File \"C:\\Users\\vomin\\Projects\\rmit\\cosc2753\\rmit2023a-cosc2753-assignment2\\venv\\Lib\\site-packages\\keras\\losses.py\", line 2078, in sparse_categorical_crossentropy\n      return backend.sparse_categorical_crossentropy(\n    File \"C:\\Users\\vomin\\Projects\\rmit\\cosc2753\\rmit2023a-cosc2753-assignment2\\venv\\Lib\\site-packages\\keras\\backend.py\", line 5660, in sparse_categorical_crossentropy\n      res = tf.nn.sparse_softmax_cross_entropy_with_logits(\nNode: 'sparse_categorical_crossentropy/SparseSoftmaxCrossEntropyWithLogits/SparseSoftmaxCrossEntropyWithLogits'\nReceived a label value of 7 which is outside the valid range of [0, 1).  Label values: 5 1 5 2 6 5 1 4 1 1 4 2 0 3 5 0 1 7 2 7 0 6 4 5 0 7 7 3 4 3 4 6 3 7 4 0 2 0 0 1 3 6 6 4 3 5 5 0 5 0 0 5 2 6 2 1 4 0 3 6 1 1 7 0 7 4 1 2 7 0 6 0 5 4 5 2 0 5 3 2 3 0 7 0 5 7 1 3 3 3 2 7 7 1 7 7 2 1 6 4 3 2 3 0 6 3 1 7 7 2 3 5 0 5 2 0 2 3 5 2 6 3 5 4 6 2 2 6\n\t [[{{node sparse_categorical_crossentropy/SparseSoftmaxCrossEntropyWithLogits/SparseSoftmaxCrossEntropyWithLogits}}]] [Op:__inference_train_function_1410]"
     ]
    }
   ],
   "source": [
    "model.compile(\n",
    "    optimizer=Adam(learning_rate=LEARNING_RATE),\n",
    "    loss=tf.keras.losses.SparseCategoricalCrossentropy(from_logits=True),\n",
    "    metrics=['sparse_categorical_accuracy']\n",
    ")\n",
    "\n",
    "history = model.fit(train_generator, validation_data=val_generator, epochs=EPOCHS, verbose=0)"
   ],
   "metadata": {
    "collapsed": false,
    "ExecuteTime": {
     "start_time": "2023-05-13T22:42:30.135591Z",
     "end_time": "2023-05-13T23:15:25.606500Z"
    }
   }
  },
  {
   "cell_type": "code",
   "execution_count": null,
   "outputs": [],
   "source": [
    "plot_learning_curve(\n",
    "    history.history['loss'],\n",
    "    history.history['val_loss'],\n",
    "    history.history['categorical_accuracy'],\n",
    "    history.history['val_categorical_accuracy'],\n",
    "    to_file='images/BaselineModel-LearningCurve.png'\n",
    ")"
   ],
   "metadata": {
    "collapsed": false,
    "ExecuteTime": {
     "start_time": "2023-05-13T23:15:25.627792Z",
     "end_time": "2023-05-13T23:15:26.221821Z"
    }
   }
  },
  {
   "cell_type": "markdown",
   "source": [
    "## 3.3. Baseline Model Performance"
   ],
   "metadata": {
    "collapsed": false
   }
  },
  {
   "cell_type": "code",
   "execution_count": null,
   "outputs": [],
   "source": [
    "test['Class'] = test['Class'].astype('str')\n",
    "test_datagen = ImageDataGenerator(data_format='channels_last')\n",
    "test_generator = test_datagen.flow_from_dataframe(\n",
    "    dataframe=test,\n",
    "    directory=dataset_dir,\n",
    "    x_col='ImgPath',\n",
    "    y_col='Class',\n",
    "    target_size=(IMG_SIZE, IMG_SIZE),\n",
    "    batch_size=1,\n",
    "    class_mode='sparse',\n",
    "    seed=42\n",
    ")\n",
    "\n",
    "model.evaluate(test_generator)"
   ],
   "metadata": {
    "collapsed": false,
    "ExecuteTime": {
     "start_time": "2023-05-13T23:15:26.198736Z",
     "end_time": "2023-05-13T23:17:06.394491Z"
    }
   }
  },
  {
   "cell_type": "code",
   "execution_count": null,
   "outputs": [],
   "source": [
    "visualize_predictions(class_encoder, model, test_generator, to_file='images/BaselineModel-SamplePredictions.png')"
   ],
   "metadata": {
    "collapsed": false,
    "ExecuteTime": {
     "start_time": "2023-05-13T23:17:06.400026Z",
     "end_time": "2023-05-13T23:17:07.564172Z"
    }
   }
  }
 ],
 "metadata": {
  "kernelspec": {
   "display_name": "Python 3",
   "language": "python",
   "name": "python3"
  },
  "language_info": {
   "codemirror_mode": {
    "name": "ipython",
    "version": 2
   },
   "file_extension": ".py",
   "mimetype": "text/x-python",
   "name": "python",
   "nbconvert_exporter": "python",
   "pygments_lexer": "ipython2",
   "version": "2.7.6"
  }
 },
 "nbformat": 4,
 "nbformat_minor": 0
}
