{
 "cells": [
  {
   "cell_type": "markdown",
   "metadata": {},
   "source": [
    "# Step 4. Flower Classifier - Convolutional Neural Network\n",
    "\n",
    "This approach is better suited than pure Artificial Neural Network (ANN) because it is able to reliably capture important features in a 2D image.\n",
    "\n",
    "Optimizer: `tf.keras.optimizers.RMSprop`\n",
    "\n",
    "According to [Tensorflow API docs](https://www.tensorflow.org/api_docs/python/tf/keras/optimizers/experimental/RMSprop), The gist of RMSprop is to:\n",
    "\n",
    "- Maintain a moving (discounted) average of the square of gradients\n",
    "- Divide the gradient by the root of this average\n",
    "\n",
    "Thus, this is a good choice for non-stationery problems. From observing our baseline ANN model that uses Adam optimizer and its prediction on the test dataset, we saw that the baseline model struggles to capture our non-stationary data: there is significant variance in lighting, angle, zoom level, etc. As such, RMSprop is a better choice than Adam.\n",
    "\n",
    "Since our data is balanced, the metric we are using to evaluate its performance is **Accuracy** ($Accuracy = \\frac{correct \\; classifications}{all \\; classifications}$), more specifically its [Tensorflow's CategoricalAccuracy Implementation](https://www.tensorflow.org/api_docs/python/tf/keras/metrics/CategoricalAccuracy).\n",
    "\n",
    "Refer to the code below to see how it is set up, trained, and evaluated."
   ]
  },
  {
   "cell_type": "code",
   "execution_count": 1,
   "metadata": {
    "collapsed": true
   },
   "outputs": [
    {
     "name": "stdout",
     "output_type": "stream",
     "text": [
      "TF version: 2.12.0\n",
      "GPU is NOT AVAILABLE\n"
     ]
    }
   ],
   "source": [
    "# Imports and environmental setups\n",
    "\n",
    "import os, sys\n",
    "module_path = os.path.abspath(os.path.join('..'))\n",
    "if module_path not in sys.path:\n",
    "    sys.path.append(module_path)\n",
    "\n",
    "import numpy as np\n",
    "import matplotlib.pyplot as plt\n",
    "from sklearn.model_selection import train_test_split\n",
    "import tensorflow as tf\n",
    "from keras.preprocessing.image import ImageDataGenerator\n",
    "from keras.optimizers import RMSprop\n",
    "\n",
    "\n",
    "# Custom utils functions\n",
    "from utils import dataset\n",
    "from utils.visualization import plot_learning_curve\n",
    "from utils.visualization import visualize_16predictions\n",
    "from utils.glob import TARGET_IMG_SIZE\n",
    "\n",
    "\n",
    "# Reproducible results\n",
    "np.random.seed(42)\n",
    "tf.random.set_seed(42)\n",
    "\n",
    "# Misc.\n",
    "plt.style.use('ggplot')\n",
    "model_name = 'clf-cnn'\n",
    "dir_raw_dataset = '../data/raw/'\n",
    "dir_train_dataset = '../data/train/'\n",
    "dir_test_dataset = '../data/test/'\n",
    "dir_log = '../log/' + model_name\n",
    "dir_models = '../models/'\n",
    "path_model = dir_models + model_name\n",
    "\n",
    "\n",
    "# Environment information\n",
    "print(\"TF version:\", tf.__version__)\n",
    "print(\"GPU is\", \"available\" if tf.config.list_physical_devices('GPU') else \"NOT AVAILABLE\")"
   ]
  },
  {
   "cell_type": "markdown",
   "metadata": {},
   "source": [
    "## 4.1. Load Dataset"
   ]
  },
  {
   "cell_type": "code",
   "execution_count": 2,
   "metadata": {},
   "outputs": [],
   "source": [
    "df = dataset.load(dir_train_dataset)"
   ]
  },
  {
   "cell_type": "code",
   "execution_count": 3,
   "metadata": {},
   "outputs": [
    {
     "name": "stdout",
     "output_type": "stream",
     "text": [
      "<class 'pandas.core.frame.DataFrame'>\n",
      "RangeIndex: 13073 entries, 0 to 13072\n",
      "Data columns (total 10 columns):\n",
      " #   Column        Non-Null Count  Dtype  \n",
      "---  ------        --------------  -----  \n",
      " 0   ImgPath       13073 non-null  object \n",
      " 1   FileType      13073 non-null  object \n",
      " 2   Width         13073 non-null  int64  \n",
      " 3   Height        13073 non-null  int64  \n",
      " 4   Ratio         13073 non-null  float64\n",
      " 5   Mode          13073 non-null  object \n",
      " 6   Bands         13073 non-null  object \n",
      " 7   Transparency  13073 non-null  bool   \n",
      " 8   Animated      13073 non-null  bool   \n",
      " 9   Class         13073 non-null  object \n",
      "dtypes: bool(2), float64(1), int64(2), object(5)\n",
      "memory usage: 842.7+ KB\n"
     ]
    }
   ],
   "source": [
    "df.info()"
   ]
  },
  {
   "cell_type": "code",
   "execution_count": 4,
   "metadata": {},
   "outputs": [
    {
     "data": {
      "text/plain": "                             ImgPath FileType  Width  Height  Ratio Mode   \n10022                Rosy/000274.jpg      jpg    256     256    1.0  RGB  \\\n11756                Tana/000414.jpg      jpg    256     256    1.0  RGB   \n12394                Tana/001211.jpg      jpg    256     256    1.0  RGB   \n11387               Rosy/rosy_60.jpg      jpg    256     256    1.0  RGB   \n7551   Lisianthus/lisianthus_247.jpg      jpg    256     256    1.0  RGB   \n6202   Hydrangeas/hydrangeas_187.jpg      jpg    256     256    1.0  RGB   \n5714           Hydrangeas/001008.jpg      jpg    256     256    1.0  RGB   \n7990   Lisianthus/lisianthus_761.jpg      jpg    256     256    1.0  RGB   \n12896              Tana/tana_458.jpg      jpg    256     256    1.0  RGB   \n3288        Chrysanthemum/000005.jpg      jpg    256     256    1.0  RGB   \n749                  Baby/000941.jpg      jpg    256     256    1.0  RGB   \n10619                Rosy/001019.jpg      jpg    256     256    1.0  RGB   \n3706        Chrysanthemum/000539.jpg      jpg    256     256    1.0  RGB   \n7814   Lisianthus/lisianthus_555.jpg      jpg    256     256    1.0  RGB   \n4982           Hydrangeas/000104.jpg      jpg    256     256    1.0  RGB   \n7923    Lisianthus/lisianthus_69.jpg      jpg    256     256    1.0  RGB   \n2264            Calimerio/000745.jpg      jpg    256     256    1.0  RGB   \n7770   Lisianthus/lisianthus_502.jpg      jpg    256     256    1.0  RGB   \n10129                Rosy/000402.jpg      jpg    256     256    1.0  RGB   \n7104           Lisianthus/000718.jpg      jpg    256     256    1.0  RGB   \n5561           Hydrangeas/000821.jpg      jpg    256     256    1.0  RGB   \n1217               Baby/baby_439.jpg      jpg    256     256    1.0  RGB   \n4238        Chrysanthemum/001227.jpg      jpg    256     256    1.0  RGB   \n11720                Tana/000372.jpg      jpg    256     256    1.0  RGB   \n2201            Calimerio/000670.jpg      jpg    256     256    1.0  RGB   \n12093                Tana/000834.jpg      jpg    256     256    1.0  RGB   \n9609       Pingpong/pingpong_210.jpg      jpg    256     256    1.0  RGB   \n7047           Lisianthus/000648.jpg      jpg    256     256    1.0  RGB   \n7550   Lisianthus/lisianthus_246.jpg      jpg    256     256    1.0  RGB   \n1662               Baby/baby_922.jpg      jpg    256     256    1.0  RGB   \n8992             Pingpong/001006.jpg      jpg    256     256    1.0  RGB   \n7030           Lisianthus/000630.jpg      jpg    256     256    1.0  RGB   \n99                   Baby/000131.jpg      jpg    256     256    1.0  RGB   \n9393             Pingpong/001512.jpg      jpg    256     256    1.0  RGB   \n11535                Tana/000146.jpg      jpg    256     256    1.0  RGB   \n12714              Tana/tana_255.jpg      jpg    256     256    1.0  RGB   \n2865            Calimerio/001497.jpg      jpg    256     256    1.0  RGB   \n4923           Hydrangeas/000030.jpg      jpg    256     256    1.0  RGB   \n12387                Tana/001201.jpg      jpg    256     256    1.0  RGB   \n6248   Hydrangeas/hydrangeas_243.jpg      jpg    256     256    1.0  RGB   \n9391             Pingpong/001510.jpg      jpg    256     256    1.0  RGB   \n4089        Chrysanthemum/001029.jpg      jpg    256     256    1.0  RGB   \n\n       Bands  Transparency  Animated          Class  \n10022  R G B         False     False           Rosy  \n11756  R G B         False     False           Tana  \n12394  R G B         False     False           Tana  \n11387  R G B         False     False           Rosy  \n7551   R G B         False     False     Lisianthus  \n6202   R G B         False     False     Hydrangeas  \n5714   R G B         False     False     Hydrangeas  \n7990   R G B         False     False     Lisianthus  \n12896  R G B         False     False           Tana  \n3288   R G B         False     False  Chrysanthemum  \n749    R G B         False     False           Baby  \n10619  R G B         False     False           Rosy  \n3706   R G B         False     False  Chrysanthemum  \n7814   R G B         False     False     Lisianthus  \n4982   R G B         False     False     Hydrangeas  \n7923   R G B         False     False     Lisianthus  \n2264   R G B         False     False      Calimerio  \n7770   R G B         False     False     Lisianthus  \n10129  R G B         False     False           Rosy  \n7104   R G B         False     False     Lisianthus  \n5561   R G B         False     False     Hydrangeas  \n1217   R G B         False     False           Baby  \n4238   R G B         False     False  Chrysanthemum  \n11720  R G B         False     False           Tana  \n2201   R G B         False     False      Calimerio  \n12093  R G B         False     False           Tana  \n9609   R G B         False     False       Pingpong  \n7047   R G B         False     False     Lisianthus  \n7550   R G B         False     False     Lisianthus  \n1662   R G B         False     False           Baby  \n8992   R G B         False     False       Pingpong  \n7030   R G B         False     False     Lisianthus  \n99     R G B         False     False           Baby  \n9393   R G B         False     False       Pingpong  \n11535  R G B         False     False           Tana  \n12714  R G B         False     False           Tana  \n2865   R G B         False     False      Calimerio  \n4923   R G B         False     False     Hydrangeas  \n12387  R G B         False     False           Tana  \n6248   R G B         False     False     Hydrangeas  \n9391   R G B         False     False       Pingpong  \n4089   R G B         False     False  Chrysanthemum  ",
      "text/html": "<div>\n<style scoped>\n    .dataframe tbody tr th:only-of-type {\n        vertical-align: middle;\n    }\n\n    .dataframe tbody tr th {\n        vertical-align: top;\n    }\n\n    .dataframe thead th {\n        text-align: right;\n    }\n</style>\n<table border=\"1\" class=\"dataframe\">\n  <thead>\n    <tr style=\"text-align: right;\">\n      <th></th>\n      <th>ImgPath</th>\n      <th>FileType</th>\n      <th>Width</th>\n      <th>Height</th>\n      <th>Ratio</th>\n      <th>Mode</th>\n      <th>Bands</th>\n      <th>Transparency</th>\n      <th>Animated</th>\n      <th>Class</th>\n    </tr>\n  </thead>\n  <tbody>\n    <tr>\n      <th>10022</th>\n      <td>Rosy/000274.jpg</td>\n      <td>jpg</td>\n      <td>256</td>\n      <td>256</td>\n      <td>1.0</td>\n      <td>RGB</td>\n      <td>R G B</td>\n      <td>False</td>\n      <td>False</td>\n      <td>Rosy</td>\n    </tr>\n    <tr>\n      <th>11756</th>\n      <td>Tana/000414.jpg</td>\n      <td>jpg</td>\n      <td>256</td>\n      <td>256</td>\n      <td>1.0</td>\n      <td>RGB</td>\n      <td>R G B</td>\n      <td>False</td>\n      <td>False</td>\n      <td>Tana</td>\n    </tr>\n    <tr>\n      <th>12394</th>\n      <td>Tana/001211.jpg</td>\n      <td>jpg</td>\n      <td>256</td>\n      <td>256</td>\n      <td>1.0</td>\n      <td>RGB</td>\n      <td>R G B</td>\n      <td>False</td>\n      <td>False</td>\n      <td>Tana</td>\n    </tr>\n    <tr>\n      <th>11387</th>\n      <td>Rosy/rosy_60.jpg</td>\n      <td>jpg</td>\n      <td>256</td>\n      <td>256</td>\n      <td>1.0</td>\n      <td>RGB</td>\n      <td>R G B</td>\n      <td>False</td>\n      <td>False</td>\n      <td>Rosy</td>\n    </tr>\n    <tr>\n      <th>7551</th>\n      <td>Lisianthus/lisianthus_247.jpg</td>\n      <td>jpg</td>\n      <td>256</td>\n      <td>256</td>\n      <td>1.0</td>\n      <td>RGB</td>\n      <td>R G B</td>\n      <td>False</td>\n      <td>False</td>\n      <td>Lisianthus</td>\n    </tr>\n    <tr>\n      <th>6202</th>\n      <td>Hydrangeas/hydrangeas_187.jpg</td>\n      <td>jpg</td>\n      <td>256</td>\n      <td>256</td>\n      <td>1.0</td>\n      <td>RGB</td>\n      <td>R G B</td>\n      <td>False</td>\n      <td>False</td>\n      <td>Hydrangeas</td>\n    </tr>\n    <tr>\n      <th>5714</th>\n      <td>Hydrangeas/001008.jpg</td>\n      <td>jpg</td>\n      <td>256</td>\n      <td>256</td>\n      <td>1.0</td>\n      <td>RGB</td>\n      <td>R G B</td>\n      <td>False</td>\n      <td>False</td>\n      <td>Hydrangeas</td>\n    </tr>\n    <tr>\n      <th>7990</th>\n      <td>Lisianthus/lisianthus_761.jpg</td>\n      <td>jpg</td>\n      <td>256</td>\n      <td>256</td>\n      <td>1.0</td>\n      <td>RGB</td>\n      <td>R G B</td>\n      <td>False</td>\n      <td>False</td>\n      <td>Lisianthus</td>\n    </tr>\n    <tr>\n      <th>12896</th>\n      <td>Tana/tana_458.jpg</td>\n      <td>jpg</td>\n      <td>256</td>\n      <td>256</td>\n      <td>1.0</td>\n      <td>RGB</td>\n      <td>R G B</td>\n      <td>False</td>\n      <td>False</td>\n      <td>Tana</td>\n    </tr>\n    <tr>\n      <th>3288</th>\n      <td>Chrysanthemum/000005.jpg</td>\n      <td>jpg</td>\n      <td>256</td>\n      <td>256</td>\n      <td>1.0</td>\n      <td>RGB</td>\n      <td>R G B</td>\n      <td>False</td>\n      <td>False</td>\n      <td>Chrysanthemum</td>\n    </tr>\n    <tr>\n      <th>749</th>\n      <td>Baby/000941.jpg</td>\n      <td>jpg</td>\n      <td>256</td>\n      <td>256</td>\n      <td>1.0</td>\n      <td>RGB</td>\n      <td>R G B</td>\n      <td>False</td>\n      <td>False</td>\n      <td>Baby</td>\n    </tr>\n    <tr>\n      <th>10619</th>\n      <td>Rosy/001019.jpg</td>\n      <td>jpg</td>\n      <td>256</td>\n      <td>256</td>\n      <td>1.0</td>\n      <td>RGB</td>\n      <td>R G B</td>\n      <td>False</td>\n      <td>False</td>\n      <td>Rosy</td>\n    </tr>\n    <tr>\n      <th>3706</th>\n      <td>Chrysanthemum/000539.jpg</td>\n      <td>jpg</td>\n      <td>256</td>\n      <td>256</td>\n      <td>1.0</td>\n      <td>RGB</td>\n      <td>R G B</td>\n      <td>False</td>\n      <td>False</td>\n      <td>Chrysanthemum</td>\n    </tr>\n    <tr>\n      <th>7814</th>\n      <td>Lisianthus/lisianthus_555.jpg</td>\n      <td>jpg</td>\n      <td>256</td>\n      <td>256</td>\n      <td>1.0</td>\n      <td>RGB</td>\n      <td>R G B</td>\n      <td>False</td>\n      <td>False</td>\n      <td>Lisianthus</td>\n    </tr>\n    <tr>\n      <th>4982</th>\n      <td>Hydrangeas/000104.jpg</td>\n      <td>jpg</td>\n      <td>256</td>\n      <td>256</td>\n      <td>1.0</td>\n      <td>RGB</td>\n      <td>R G B</td>\n      <td>False</td>\n      <td>False</td>\n      <td>Hydrangeas</td>\n    </tr>\n    <tr>\n      <th>7923</th>\n      <td>Lisianthus/lisianthus_69.jpg</td>\n      <td>jpg</td>\n      <td>256</td>\n      <td>256</td>\n      <td>1.0</td>\n      <td>RGB</td>\n      <td>R G B</td>\n      <td>False</td>\n      <td>False</td>\n      <td>Lisianthus</td>\n    </tr>\n    <tr>\n      <th>2264</th>\n      <td>Calimerio/000745.jpg</td>\n      <td>jpg</td>\n      <td>256</td>\n      <td>256</td>\n      <td>1.0</td>\n      <td>RGB</td>\n      <td>R G B</td>\n      <td>False</td>\n      <td>False</td>\n      <td>Calimerio</td>\n    </tr>\n    <tr>\n      <th>7770</th>\n      <td>Lisianthus/lisianthus_502.jpg</td>\n      <td>jpg</td>\n      <td>256</td>\n      <td>256</td>\n      <td>1.0</td>\n      <td>RGB</td>\n      <td>R G B</td>\n      <td>False</td>\n      <td>False</td>\n      <td>Lisianthus</td>\n    </tr>\n    <tr>\n      <th>10129</th>\n      <td>Rosy/000402.jpg</td>\n      <td>jpg</td>\n      <td>256</td>\n      <td>256</td>\n      <td>1.0</td>\n      <td>RGB</td>\n      <td>R G B</td>\n      <td>False</td>\n      <td>False</td>\n      <td>Rosy</td>\n    </tr>\n    <tr>\n      <th>7104</th>\n      <td>Lisianthus/000718.jpg</td>\n      <td>jpg</td>\n      <td>256</td>\n      <td>256</td>\n      <td>1.0</td>\n      <td>RGB</td>\n      <td>R G B</td>\n      <td>False</td>\n      <td>False</td>\n      <td>Lisianthus</td>\n    </tr>\n    <tr>\n      <th>5561</th>\n      <td>Hydrangeas/000821.jpg</td>\n      <td>jpg</td>\n      <td>256</td>\n      <td>256</td>\n      <td>1.0</td>\n      <td>RGB</td>\n      <td>R G B</td>\n      <td>False</td>\n      <td>False</td>\n      <td>Hydrangeas</td>\n    </tr>\n    <tr>\n      <th>1217</th>\n      <td>Baby/baby_439.jpg</td>\n      <td>jpg</td>\n      <td>256</td>\n      <td>256</td>\n      <td>1.0</td>\n      <td>RGB</td>\n      <td>R G B</td>\n      <td>False</td>\n      <td>False</td>\n      <td>Baby</td>\n    </tr>\n    <tr>\n      <th>4238</th>\n      <td>Chrysanthemum/001227.jpg</td>\n      <td>jpg</td>\n      <td>256</td>\n      <td>256</td>\n      <td>1.0</td>\n      <td>RGB</td>\n      <td>R G B</td>\n      <td>False</td>\n      <td>False</td>\n      <td>Chrysanthemum</td>\n    </tr>\n    <tr>\n      <th>11720</th>\n      <td>Tana/000372.jpg</td>\n      <td>jpg</td>\n      <td>256</td>\n      <td>256</td>\n      <td>1.0</td>\n      <td>RGB</td>\n      <td>R G B</td>\n      <td>False</td>\n      <td>False</td>\n      <td>Tana</td>\n    </tr>\n    <tr>\n      <th>2201</th>\n      <td>Calimerio/000670.jpg</td>\n      <td>jpg</td>\n      <td>256</td>\n      <td>256</td>\n      <td>1.0</td>\n      <td>RGB</td>\n      <td>R G B</td>\n      <td>False</td>\n      <td>False</td>\n      <td>Calimerio</td>\n    </tr>\n    <tr>\n      <th>12093</th>\n      <td>Tana/000834.jpg</td>\n      <td>jpg</td>\n      <td>256</td>\n      <td>256</td>\n      <td>1.0</td>\n      <td>RGB</td>\n      <td>R G B</td>\n      <td>False</td>\n      <td>False</td>\n      <td>Tana</td>\n    </tr>\n    <tr>\n      <th>9609</th>\n      <td>Pingpong/pingpong_210.jpg</td>\n      <td>jpg</td>\n      <td>256</td>\n      <td>256</td>\n      <td>1.0</td>\n      <td>RGB</td>\n      <td>R G B</td>\n      <td>False</td>\n      <td>False</td>\n      <td>Pingpong</td>\n    </tr>\n    <tr>\n      <th>7047</th>\n      <td>Lisianthus/000648.jpg</td>\n      <td>jpg</td>\n      <td>256</td>\n      <td>256</td>\n      <td>1.0</td>\n      <td>RGB</td>\n      <td>R G B</td>\n      <td>False</td>\n      <td>False</td>\n      <td>Lisianthus</td>\n    </tr>\n    <tr>\n      <th>7550</th>\n      <td>Lisianthus/lisianthus_246.jpg</td>\n      <td>jpg</td>\n      <td>256</td>\n      <td>256</td>\n      <td>1.0</td>\n      <td>RGB</td>\n      <td>R G B</td>\n      <td>False</td>\n      <td>False</td>\n      <td>Lisianthus</td>\n    </tr>\n    <tr>\n      <th>1662</th>\n      <td>Baby/baby_922.jpg</td>\n      <td>jpg</td>\n      <td>256</td>\n      <td>256</td>\n      <td>1.0</td>\n      <td>RGB</td>\n      <td>R G B</td>\n      <td>False</td>\n      <td>False</td>\n      <td>Baby</td>\n    </tr>\n    <tr>\n      <th>8992</th>\n      <td>Pingpong/001006.jpg</td>\n      <td>jpg</td>\n      <td>256</td>\n      <td>256</td>\n      <td>1.0</td>\n      <td>RGB</td>\n      <td>R G B</td>\n      <td>False</td>\n      <td>False</td>\n      <td>Pingpong</td>\n    </tr>\n    <tr>\n      <th>7030</th>\n      <td>Lisianthus/000630.jpg</td>\n      <td>jpg</td>\n      <td>256</td>\n      <td>256</td>\n      <td>1.0</td>\n      <td>RGB</td>\n      <td>R G B</td>\n      <td>False</td>\n      <td>False</td>\n      <td>Lisianthus</td>\n    </tr>\n    <tr>\n      <th>99</th>\n      <td>Baby/000131.jpg</td>\n      <td>jpg</td>\n      <td>256</td>\n      <td>256</td>\n      <td>1.0</td>\n      <td>RGB</td>\n      <td>R G B</td>\n      <td>False</td>\n      <td>False</td>\n      <td>Baby</td>\n    </tr>\n    <tr>\n      <th>9393</th>\n      <td>Pingpong/001512.jpg</td>\n      <td>jpg</td>\n      <td>256</td>\n      <td>256</td>\n      <td>1.0</td>\n      <td>RGB</td>\n      <td>R G B</td>\n      <td>False</td>\n      <td>False</td>\n      <td>Pingpong</td>\n    </tr>\n    <tr>\n      <th>11535</th>\n      <td>Tana/000146.jpg</td>\n      <td>jpg</td>\n      <td>256</td>\n      <td>256</td>\n      <td>1.0</td>\n      <td>RGB</td>\n      <td>R G B</td>\n      <td>False</td>\n      <td>False</td>\n      <td>Tana</td>\n    </tr>\n    <tr>\n      <th>12714</th>\n      <td>Tana/tana_255.jpg</td>\n      <td>jpg</td>\n      <td>256</td>\n      <td>256</td>\n      <td>1.0</td>\n      <td>RGB</td>\n      <td>R G B</td>\n      <td>False</td>\n      <td>False</td>\n      <td>Tana</td>\n    </tr>\n    <tr>\n      <th>2865</th>\n      <td>Calimerio/001497.jpg</td>\n      <td>jpg</td>\n      <td>256</td>\n      <td>256</td>\n      <td>1.0</td>\n      <td>RGB</td>\n      <td>R G B</td>\n      <td>False</td>\n      <td>False</td>\n      <td>Calimerio</td>\n    </tr>\n    <tr>\n      <th>4923</th>\n      <td>Hydrangeas/000030.jpg</td>\n      <td>jpg</td>\n      <td>256</td>\n      <td>256</td>\n      <td>1.0</td>\n      <td>RGB</td>\n      <td>R G B</td>\n      <td>False</td>\n      <td>False</td>\n      <td>Hydrangeas</td>\n    </tr>\n    <tr>\n      <th>12387</th>\n      <td>Tana/001201.jpg</td>\n      <td>jpg</td>\n      <td>256</td>\n      <td>256</td>\n      <td>1.0</td>\n      <td>RGB</td>\n      <td>R G B</td>\n      <td>False</td>\n      <td>False</td>\n      <td>Tana</td>\n    </tr>\n    <tr>\n      <th>6248</th>\n      <td>Hydrangeas/hydrangeas_243.jpg</td>\n      <td>jpg</td>\n      <td>256</td>\n      <td>256</td>\n      <td>1.0</td>\n      <td>RGB</td>\n      <td>R G B</td>\n      <td>False</td>\n      <td>False</td>\n      <td>Hydrangeas</td>\n    </tr>\n    <tr>\n      <th>9391</th>\n      <td>Pingpong/001510.jpg</td>\n      <td>jpg</td>\n      <td>256</td>\n      <td>256</td>\n      <td>1.0</td>\n      <td>RGB</td>\n      <td>R G B</td>\n      <td>False</td>\n      <td>False</td>\n      <td>Pingpong</td>\n    </tr>\n    <tr>\n      <th>4089</th>\n      <td>Chrysanthemum/001029.jpg</td>\n      <td>jpg</td>\n      <td>256</td>\n      <td>256</td>\n      <td>1.0</td>\n      <td>RGB</td>\n      <td>R G B</td>\n      <td>False</td>\n      <td>False</td>\n      <td>Chrysanthemum</td>\n    </tr>\n  </tbody>\n</table>\n</div>"
     },
     "execution_count": 4,
     "metadata": {},
     "output_type": "execute_result"
    }
   ],
   "source": [
    "df.sample(n=42, random_state=42)"
   ]
  },
  {
   "cell_type": "code",
   "execution_count": 5,
   "metadata": {},
   "outputs": [
    {
     "name": "stdout",
     "output_type": "stream",
     "text": [
      "Train data: 9804 samples, Validation Data: 3269 samples.\n"
     ]
    }
   ],
   "source": [
    "train, val = train_test_split(df, shuffle=True, test_size=0.25, random_state=42)  # 80/20/20 - train/val/test\n",
    "\n",
    "print(f'Train data: {train.shape[0]} samples, Validation Data: {val.shape[0]} samples.')"
   ]
  },
  {
   "cell_type": "markdown",
   "metadata": {},
   "source": [
    "## 4.2. Model Setup and Training"
   ]
  },
  {
   "cell_type": "markdown",
   "metadata": {},
   "source": [
    "### 4.2.1. Hyper-parameters"
   ]
  },
  {
   "cell_type": "code",
   "execution_count": 6,
   "metadata": {},
   "outputs": [],
   "source": [
    "# Model Parameters\n",
    "BATCH_SIZE = 512\n",
    "INPUT_DIM = (TARGET_IMG_SIZE, TARGET_IMG_SIZE, 3)  # RGB - 3 channels images\n",
    "OUTPUT_CLASSES = 8  # One-hot encoded: 8 different classes\n",
    "\n",
    "# Training Parameters\n",
    "EPOCHS = 32\n",
    "LEARNING_RATE = 5e-3\n",
    "MOMENTUM = 0.9"
   ]
  },
  {
   "cell_type": "markdown",
   "metadata": {},
   "source": [
    "### 4.2.2. Model Architecture"
   ]
  },
  {
   "cell_type": "code",
   "execution_count": 7,
   "metadata": {},
   "outputs": [],
   "source": [
    "inputs = tf.keras.layers.Input(shape=INPUT_DIM)\n",
    "\n",
    "x = tf.keras.layers.Conv2D(4, (4, 4), activation='relu')(inputs)\n",
    "x = tf.keras.layers.MaxPooling2D((2, 2))(x)\n",
    "\n",
    "x = tf.keras.layers.Conv2D(8, (4, 4), activation='relu')(x)\n",
    "x = tf.keras.layers.Attention()(\n",
    "    [\n",
    "        tf.keras.layers.Conv2D(8, (1, 1), activation='sigmoid', padding='same')(x),\n",
    "        x\n",
    "    ],\n",
    ")\n",
    "x = tf.keras.layers.MaxPooling2D((2, 2))(x)\n",
    "\n",
    "x = tf.keras.layers.Conv2D(16, (4, 4), activation='relu')(x)\n",
    "x = tf.keras.layers.MaxPooling2D((2, 2))(x)\n",
    "\n",
    "x = tf.keras.layers.Conv2D(32, (4, 4), activation='relu')(x)\n",
    "x = tf.keras.layers.MaxPooling2D((2, 2))(x)\n",
    "\n",
    "x = tf.keras.layers.Conv2D(64, (4, 4))(x)\n",
    "x = tf.keras.layers.PReLU()(x)\n",
    "x = tf.keras.layers.GlobalMaxPool2D()(x)\n",
    "\n",
    "x = tf.keras.layers.Dense(64)(x)\n",
    "x = tf.keras.layers.PReLU()(x)\n",
    "x = tf.keras.layers.Dropout(0.5)(x, training=True)\n",
    "\n",
    "x = tf.keras.layers.Dense(128)(x)\n",
    "x = tf.keras.layers.PReLU()(x)\n",
    "x = tf.keras.layers.Dropout(0.5)(x, training=True)\n",
    "\n",
    "x = tf.keras.layers.Dense(128, activation='sigmoid')(x)\n",
    "outputs = tf.keras.layers.Dense(OUTPUT_CLASSES)(x)\n",
    "\n",
    "\n",
    "model = tf.keras.Model(inputs=inputs, outputs=outputs, name=model_name)\n",
    "model.compile(\n",
    "    optimizer=RMSprop(learning_rate=LEARNING_RATE, momentum=MOMENTUM),\n",
    "    loss=tf.keras.losses.CategoricalCrossentropy(from_logits=True),\n",
    "    metrics=['categorical_accuracy'],\n",
    ")"
   ]
  },
  {
   "cell_type": "code",
   "execution_count": 8,
   "outputs": [
    {
     "name": "stdout",
     "output_type": "stream",
     "text": [
      "Model: \"clf-cnn\"\n",
      "__________________________________________________________________________________________________\n",
      " Layer (type)                   Output Shape         Param #     Connected to                     \n",
      "==================================================================================================\n",
      " input_1 (InputLayer)           [(None, 256, 256, 3  0           []                               \n",
      "                                )]                                                                \n",
      "                                                                                                  \n",
      " conv2d (Conv2D)                (None, 253, 253, 4)  196         ['input_1[0][0]']                \n",
      "                                                                                                  \n",
      " max_pooling2d (MaxPooling2D)   (None, 126, 126, 4)  0           ['conv2d[0][0]']                 \n",
      "                                                                                                  \n",
      " conv2d_1 (Conv2D)              (None, 123, 123, 8)  520         ['max_pooling2d[0][0]']          \n",
      "                                                                                                  \n",
      " conv2d_2 (Conv2D)              (None, 123, 123, 8)  72          ['conv2d_1[0][0]']               \n",
      "                                                                                                  \n",
      " attention (Attention)          (None, 123, 123, 8)  0           ['conv2d_2[0][0]',               \n",
      "                                                                  'conv2d_1[0][0]']               \n",
      "                                                                                                  \n",
      " max_pooling2d_1 (MaxPooling2D)  (None, 61, 61, 8)   0           ['attention[0][0]']              \n",
      "                                                                                                  \n",
      " conv2d_3 (Conv2D)              (None, 58, 58, 16)   2064        ['max_pooling2d_1[0][0]']        \n",
      "                                                                                                  \n",
      " max_pooling2d_2 (MaxPooling2D)  (None, 29, 29, 16)  0           ['conv2d_3[0][0]']               \n",
      "                                                                                                  \n",
      " conv2d_4 (Conv2D)              (None, 26, 26, 32)   8224        ['max_pooling2d_2[0][0]']        \n",
      "                                                                                                  \n",
      " max_pooling2d_3 (MaxPooling2D)  (None, 13, 13, 32)  0           ['conv2d_4[0][0]']               \n",
      "                                                                                                  \n",
      " conv2d_5 (Conv2D)              (None, 10, 10, 64)   32832       ['max_pooling2d_3[0][0]']        \n",
      "                                                                                                  \n",
      " p_re_lu (PReLU)                (None, 10, 10, 64)   6400        ['conv2d_5[0][0]']               \n",
      "                                                                                                  \n",
      " global_max_pooling2d (GlobalMa  (None, 64)          0           ['p_re_lu[0][0]']                \n",
      " xPooling2D)                                                                                      \n",
      "                                                                                                  \n",
      " dense (Dense)                  (None, 64)           4160        ['global_max_pooling2d[0][0]']   \n",
      "                                                                                                  \n",
      " p_re_lu_1 (PReLU)              (None, 64)           64          ['dense[0][0]']                  \n",
      "                                                                                                  \n",
      " dropout (Dropout)              (None, 64)           0           ['p_re_lu_1[0][0]']              \n",
      "                                                                                                  \n",
      " dense_1 (Dense)                (None, 128)          8320        ['dropout[0][0]']                \n",
      "                                                                                                  \n",
      " p_re_lu_2 (PReLU)              (None, 128)          128         ['dense_1[0][0]']                \n",
      "                                                                                                  \n",
      " dropout_1 (Dropout)            (None, 128)          0           ['p_re_lu_2[0][0]']              \n",
      "                                                                                                  \n",
      " dense_2 (Dense)                (None, 128)          16512       ['dropout_1[0][0]']              \n",
      "                                                                                                  \n",
      " dense_3 (Dense)                (None, 8)            1032        ['dense_2[0][0]']                \n",
      "                                                                                                  \n",
      "==================================================================================================\n",
      "Total params: 80,524\n",
      "Trainable params: 80,524\n",
      "Non-trainable params: 0\n",
      "__________________________________________________________________________________________________\n"
     ]
    }
   ],
   "source": [
    "model.summary()"
   ],
   "metadata": {
    "collapsed": false
   }
  },
  {
   "cell_type": "code",
   "execution_count": 9,
   "metadata": {},
   "outputs": [
    {
     "name": "stdout",
     "output_type": "stream",
     "text": [
      "You must install pydot (`pip install pydot`) and install graphviz (see instructions at https://graphviz.gitlab.io/download/) for plot_model to work.\n"
     ]
    }
   ],
   "source": [
    "tf.keras.utils.plot_model(model, show_shapes=True, to_file=f'images/{model_name}-Diagram.png')"
   ]
  },
  {
   "cell_type": "markdown",
   "metadata": {},
   "source": [
    "### 4.2.3. Training"
   ]
  },
  {
   "cell_type": "code",
   "execution_count": 10,
   "metadata": {},
   "outputs": [
    {
     "name": "stdout",
     "output_type": "stream",
     "text": [
      "Found 9804 validated image filenames belonging to 8 classes.\n",
      "Found 3269 validated image filenames belonging to 8 classes.\n"
     ]
    }
   ],
   "source": [
    "train['Class'] = train['Class'].astype('str')\n",
    "train_datagen = ImageDataGenerator(data_format='channels_last')\n",
    "train_generator = train_datagen.flow_from_dataframe(\n",
    "    dataframe=train,\n",
    "    directory=dir_train_dataset,\n",
    "    x_col='ImgPath',\n",
    "    y_col='Class',\n",
    "    target_size=(TARGET_IMG_SIZE, TARGET_IMG_SIZE),\n",
    "    batch_size=BATCH_SIZE,\n",
    "    class_mode='categorical',\n",
    "    seed=42\n",
    ")\n",
    "\n",
    "val['Class'] = val['Class'].astype('str')\n",
    "val_datagen = ImageDataGenerator(data_format='channels_last')\n",
    "val_generator = val_datagen.flow_from_dataframe(\n",
    "    dataframe=val,\n",
    "    directory=dir_train_dataset,\n",
    "    x_col='ImgPath',\n",
    "    y_col='Class',\n",
    "    target_size=(TARGET_IMG_SIZE, TARGET_IMG_SIZE),\n",
    "    batch_size=BATCH_SIZE,\n",
    "    class_mode='categorical',\n",
    "    seed=42\n",
    ")"
   ]
  },
  {
   "cell_type": "code",
   "execution_count": 11,
   "metadata": {},
   "outputs": [
    {
     "name": "stdout",
     "output_type": "stream",
     "text": [
      "Epoch 1/32\n",
      "19/19 [==============================] - 724s 37s/step - loss: 2.5029 - categorical_accuracy: 0.1254 - val_loss: 2.1691 - val_categorical_accuracy: 0.1204\n",
      "Epoch 2/32\n",
      "19/19 [==============================] - 649s 34s/step - loss: 2.1793 - categorical_accuracy: 0.1263 - val_loss: 2.1295 - val_categorical_accuracy: 0.1286\n",
      "Epoch 3/32\n",
      "19/19 [==============================] - 652s 34s/step - loss: 2.1327 - categorical_accuracy: 0.1247 - val_loss: 2.1642 - val_categorical_accuracy: 0.1191\n",
      "Epoch 4/32\n",
      "19/19 [==============================] - 657s 34s/step - loss: 2.1451 - categorical_accuracy: 0.1285 - val_loss: 2.1282 - val_categorical_accuracy: 0.1234\n",
      "Epoch 5/32\n",
      "19/19 [==============================] - 633s 33s/step - loss: 2.1264 - categorical_accuracy: 0.1230 - val_loss: 2.1213 - val_categorical_accuracy: 0.1299\n",
      "Epoch 6/32\n",
      "19/19 [==============================] - 661s 35s/step - loss: 2.1317 - categorical_accuracy: 0.1304 - val_loss: 2.1366 - val_categorical_accuracy: 0.1240\n",
      "Epoch 7/32\n",
      "19/19 [==============================] - 631s 33s/step - loss: 2.1302 - categorical_accuracy: 0.1271 - val_loss: 2.1219 - val_categorical_accuracy: 0.1309\n",
      "Epoch 8/32\n",
      "19/19 [==============================] - 654s 35s/step - loss: 2.1201 - categorical_accuracy: 0.1309 - val_loss: 2.1126 - val_categorical_accuracy: 0.1195\n",
      "Epoch 9/32\n",
      "19/19 [==============================] - 654s 34s/step - loss: 2.1347 - categorical_accuracy: 0.1273 - val_loss: 2.1413 - val_categorical_accuracy: 0.1253\n",
      "Epoch 10/32\n",
      "19/19 [==============================] - 640s 35s/step - loss: 2.1511 - categorical_accuracy: 0.1239 - val_loss: 2.1226 - val_categorical_accuracy: 0.1328\n",
      "Epoch 11/32\n",
      "19/19 [==============================] - 664s 35s/step - loss: 2.1391 - categorical_accuracy: 0.1227 - val_loss: 2.1292 - val_categorical_accuracy: 0.1253\n",
      "Epoch 12/32\n",
      " 4/19 [=====>........................] - ETA: 8:00 - loss: 2.1376 - categorical_accuracy: 0.1240"
     ]
    },
    {
     "name": "stderr",
     "output_type": "stream",
     "text": [
      "\n",
      "KeyboardInterrupt\n",
      "\n"
     ]
    }
   ],
   "source": [
    "tensorboard_callback = tf.keras.callbacks.TensorBoard(log_dir=dir_log, write_graph=False)\n",
    "history = model.fit(\n",
    "    train_generator, validation_data=val_generator,\n",
    "    epochs=EPOCHS,\n",
    "    steps_per_epoch=train.shape[0] // BATCH_SIZE,\n",
    "    validation_steps=val.shape[0] // BATCH_SIZE,\n",
    "    verbose=1, callbacks=[tensorboard_callback],\n",
    ")"
   ]
  },
  {
   "cell_type": "code",
   "execution_count": null,
   "metadata": {},
   "outputs": [],
   "source": [
    "plot_learning_curve(\n",
    "    history.history['loss'],\n",
    "    history.history['val_loss'],\n",
    "    history.history['categorical_accuracy'],\n",
    "    history.history['val_categorical_accuracy'],\n",
    "    to_file=f'images/{model_name}-LearningCurve.png'\n",
    ")"
   ]
  },
  {
   "cell_type": "markdown",
   "metadata": {},
   "source": [
    "## 4.3. Model Performance\n",
    "\n",
    "Evaluated against test dataset in `./data/test/`"
   ]
  },
  {
   "cell_type": "code",
   "execution_count": null,
   "metadata": {},
   "outputs": [],
   "source": [
    "test = dataset.load(dir_test_dataset)\n",
    "test['Class'] = test['Class'].astype('str')\n",
    "test_datagen = ImageDataGenerator(data_format='channels_last')\n",
    "test_generator = test_datagen.flow_from_dataframe(\n",
    "    dataframe=test,\n",
    "    directory=dir_test_dataset,\n",
    "    x_col='ImgPath',\n",
    "    y_col='Class',\n",
    "    target_size=(TARGET_IMG_SIZE, TARGET_IMG_SIZE),\n",
    "    batch_size=1,\n",
    "    class_mode='categorical',\n",
    "    seed=42\n",
    ")"
   ]
  },
  {
   "cell_type": "code",
   "execution_count": null,
   "metadata": {},
   "outputs": [],
   "source": [
    "visualize_16predictions(model, test_generator, to_file=f'images/{model_name}-16SamplePredictions.png')"
   ]
  },
  {
   "cell_type": "code",
   "execution_count": null,
   "outputs": [],
   "source": [
    "model.evaluate(test_generator)"
   ],
   "metadata": {
    "collapsed": false
   }
  },
  {
   "cell_type": "markdown",
   "source": [
    "**☞ Observation**\n",
    "\n",
    "We can see that this CNN model has significantly higher performance **(around <span style=\"color:red\">0.7</span> accuracy)** comparing to our baseline ANN model (0.5). By using convolutional layers, our model is now better at capturing most of the important features in our training data while being resistant to noise.\n",
    "\n",
    "**This will be our final model.**"
   ],
   "metadata": {
    "collapsed": false
   }
  },
  {
   "cell_type": "markdown",
   "metadata": {},
   "source": [
    "## 4.4. Model Exporting"
   ]
  },
  {
   "cell_type": "code",
   "execution_count": null,
   "metadata": {},
   "outputs": [],
   "source": [
    "model.save(path_model, overwrite = True)"
   ]
  }
 ],
 "metadata": {
  "kernelspec": {
   "display_name": "Python 3 (ipykernel)",
   "language": "python",
   "name": "python3"
  },
  "language_info": {
   "codemirror_mode": {
    "name": "ipython",
    "version": 3
   },
   "file_extension": ".py",
   "mimetype": "text/x-python",
   "name": "python",
   "nbconvert_exporter": "python",
   "pygments_lexer": "ipython3",
   "version": "3.11.2"
  }
 },
 "nbformat": 4,
 "nbformat_minor": 1
}
