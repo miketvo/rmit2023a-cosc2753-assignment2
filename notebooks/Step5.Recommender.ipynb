{
 "cells": [
  {
   "cell_type": "markdown",
   "source": [
    "# Step 5. Flower Image Recommender - Convolutional Neural Network and Cosine Similarity\n",
    "\n",
    "To recommend similar images from a reference image input from the user, we are using the following approach:\n",
    "\n",
    "1. Classify the reference image: Using our developed classifier model.\n",
    "2. Generate feature vector using a Convolutional Neural Network\n",
    "3. Use k-Nearest Neighbor machine learning algorithm to find the similar images and recommend them."
   ],
   "metadata": {
    "collapsed": false
   }
  }
 ],
 "metadata": {
  "kernelspec": {
   "display_name": "Python 3",
   "language": "python",
   "name": "python3"
  },
  "language_info": {
   "codemirror_mode": {
    "name": "ipython",
    "version": 2
   },
   "file_extension": ".py",
   "mimetype": "text/x-python",
   "name": "python",
   "nbconvert_exporter": "python",
   "pygments_lexer": "ipython2",
   "version": "2.7.6"
  }
 },
 "nbformat": 4,
 "nbformat_minor": 0
}
