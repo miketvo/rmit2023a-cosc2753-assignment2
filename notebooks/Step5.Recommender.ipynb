{
 "cells": [
  {
   "cell_type": "markdown",
   "source": [
    "# Step 5: Recommender System\n",
    "\n",
    "To implement the image recommendation functionality for our project, we are following these steps:\n",
    "\n",
    "1. Image Classification: Utilize our existing machine learning model to classify the user-provided reference image into one of the eight flower classes.\n",
    "2. Similarity Detection:\n",
    "    - Use a Convolutional Neural Network (CNN) to extract feature vectors from each image in our database, then store it in `./data/recommender-database.csv`, to allow for efficient retrieval during the recommendation process.\n",
    "    - Use the same CNN to extract a feature vector from our the user-provided reference image.\n",
    "    - Apply a K-Means unsupervised machine learning model to cluster the reference image's feature vector with those of the images in our database. We select the number of cluster $k$ dynamically using the number of images need to be recommended.\n",
    "3. Recommending Images: Once we have the clusters, we would recommend images from the cluster that the reference image belongs to. To do this accurately, we are using [Scikit-learn implementation of cosine similarity](https://scikit-learn.org/stable/modules/generated/sklearn.metrics.pairwise.cosine_similarity.html) to find the most similar images to the reference image within that cluster."
   ],
   "metadata": {
    "collapsed": false
   }
  },
  {
   "cell_type": "code",
   "execution_count": null,
   "metadata": {
    "collapsed": true
   },
   "outputs": [],
   "source": [
    "# Imports and environmental setups\n",
    "\n",
    "import os, sys\n",
    "module_path = os.path.abspath(os.path.join('..'))\n",
    "if module_path not in sys.path:\n",
    "    sys.path.append(module_path)\n",
    "\n",
    "import numpy as np\n",
    "import matplotlib.pyplot as plt\n",
    "from sklearn.model_selection import train_test_split\n",
    "import tensorflow as tf\n",
    "from keras.preprocessing.image import ImageDataGenerator\n",
    "from keras.optimizers import RMSprop\n",
    "\n",
    "\n",
    "# Custom utils functions\n",
    "from utils import dataset\n",
    "from utils.visualization import plot_learning_curve\n",
    "from utils.visualization import visualize_16predictions\n",
    "from utils.glob import TARGET_IMG_SIZE\n",
    "\n",
    "\n",
    "# Reproducible results\n",
    "np.random.seed(42)\n",
    "tf.random.set_seed(42)\n",
    "\n",
    "# Misc.\n",
    "plt.style.use('ggplot')\n",
    "model_name = 'rec-kmeans'\n",
    "dir_recommender_database = '../data/recommender-database/'\n",
    "path_recommender_database = '../data/recommender-database.csv'\n",
    "dir_log = '../log/' + model_name\n",
    "dir_models = '../models/'\n",
    "path_model = dir_models + model_name\n",
    "\n",
    "\n",
    "# Environment information\n",
    "print(\"TF version:\", tf.__version__)\n",
    "print(\"GPU is\", \"available\" if tf.config.list_physical_devices('GPU') else \"NOT AVAILABLE\")"
   ]
  },
  {
   "cell_type": "code",
   "execution_count": null,
   "outputs": [],
   "source": [],
   "metadata": {
    "collapsed": false
   }
  }
 ],
 "metadata": {
  "kernelspec": {
   "display_name": "Python 3",
   "language": "python",
   "name": "python3"
  },
  "language_info": {
   "codemirror_mode": {
    "name": "ipython",
    "version": 2
   },
   "file_extension": ".py",
   "mimetype": "text/x-python",
   "name": "python",
   "nbconvert_exporter": "python",
   "pygments_lexer": "ipython2",
   "version": "2.7.6"
  }
 },
 "nbformat": 4,
 "nbformat_minor": 0
}
